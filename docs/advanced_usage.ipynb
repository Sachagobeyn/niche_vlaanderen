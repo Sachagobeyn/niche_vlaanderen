{
 "cells": [
  {
   "cell_type": "markdown",
   "metadata": {},
   "source": [
    "## Advanced usage\n",
    "### Using config files\n",
    "\n",
    "Instead of specifying all inputs using [set_input](https://inbo.github.io/niche_vlaanderen/lowlevel.html#niche_vlaanderen.Niche.set_input), it is possible to use a config file. A config file can be loaded using [read_config_file](https://inbo.github.io/niche_vlaanderen/lowlevel.html#niche_vlaanderen.Niche.read_config_file) or it can be read and executed immediately by using [run_config_file](https://inbo.github.io/niche_vlaanderen/lowlevel.html#niche_vlaanderen.Niche.run_config_file).\n",
    "\n",
    "The syntax of the config file is explained more in detail in [Niche Configuration file](https://inbo.github.io/niche_vlaanderen/cli.html), but is already introduced here because it will be used in the next examples."
   ]
  },
  {
   "cell_type": "markdown",
   "metadata": {},
   "source": [
    "\n",
    "### Comparing Niche classes\n",
    "\n",
    "Niche models can be compared using a [NicheDelta](lowlevel.rst#niche_vlaanderen.NicheDelta) class. This can be used to compare different scenario's. \n",
    "\n",
    "In our example, we will compare the results of the running Niche two times, once using a simple model and once using a full model. "
   ]
  },
  {
   "cell_type": "code",
   "execution_count": null,
   "metadata": {},
   "outputs": [],
   "source": [
    "import niche_vlaanderen as nv\n",
    "import matplotlib.pyplot as plt\n",
    "\n",
    "simple = nv.Niche()\n",
    "simple.run_config_file(\"simple.yml\")\n",
    "\n",
    "full = nv.Niche()\n",
    "full.run_config_file(\"full.yml\")\n",
    "\n",
    "delta = nv.NicheDelta(simple, full)\n",
    "ax = delta.plot(7)\n",
    "plt.show()"
   ]
  },
  {
   "cell_type": "markdown",
   "metadata": {},
   "source": [
    "It is also possible to show the areas in a dataframe by using the [table](lowlevel.rst#niche_vlaanderen.NicheDelta.table) attribute."
   ]
  },
  {
   "cell_type": "code",
   "execution_count": null,
   "metadata": {},
   "outputs": [],
   "source": [
    "delta.table.head()"
   ]
  },
  {
   "cell_type": "markdown",
   "metadata": {},
   "source": [
    "Like Niche, NicheDelta also has a write method, which takes a directory as an argument."
   ]
  },
  {
   "cell_type": "code",
   "execution_count": null,
   "metadata": {},
   "outputs": [],
   "source": [
    "delta.write(\"comparison_output\", overwrite_files=True)"
   ]
  },
  {
   "cell_type": "markdown",
   "metadata": {},
   "source": [
    "### Creating deviation maps\n",
    "\n",
    "In many cases, it is not only important to find out which vegetation types are possible given the different input files, but also to find out how much change would be required to `mhw` or `mlw` to allow a certain vegetation type.\n",
    "\n",
    "To create deviation maps, it is necessary to [run](lowlevel.rst#niche_vlaanderen.Niche.run) a model with the `deviation` option."
   ]
  },
  {
   "cell_type": "code",
   "execution_count": null,
   "metadata": {},
   "outputs": [],
   "source": [
    "dev = nv.Niche()\n",
    "dev.set_input(\"mhw\",\"../testcase/zwarte_beek/input/mhw.asc\")\n",
    "dev.set_input(\"mlw\",\"../testcase/zwarte_beek/input/mhw.asc\")\n",
    "dev.set_input(\"soil_code\",\"../testcase/zwarte_beek/input/soil_code.asc\")\n",
    "dev.run(deviation=True, full_model=False)"
   ]
  },
  {
   "cell_type": "markdown",
   "metadata": {},
   "source": [
    "The deviation maps can be plotted by specifying either mhw or mlw with the vegetation type, eg mhw_14 (to show the deviation between mhw and the required mhw for vegetation type 14).\n",
    "Positive values indicate that the actual condition is too dry for the vegetation type. Negative values indicate that the actual condition is too wet for the vegetation type. "
   ]
  },
  {
   "cell_type": "code",
   "execution_count": null,
   "metadata": {},
   "outputs": [],
   "source": [
    "dev.plot(\"mlw\")\n",
    "dev.plot(\"mlw_14\")\n",
    "\n",
    "plt.show()"
   ]
  },
  {
   "cell_type": "markdown",
   "metadata": {},
   "source": [
    "### Creating statistics per shape object\n",
    "\n",
    "Niche also contains a helper function that allows one to calculate the possible vegetation by using a vector dataset, such as a .geojson or .shp file.\n",
    "\n",
    "The vegetation is returned as a dict of pandas dataframes (one for every shape)."
   ]
  },
  {
   "cell_type": "code",
   "execution_count": null,
   "metadata": {},
   "outputs": [],
   "source": [
    "df = full.zonal_stats(\"../testcase/zwarte_beek/input/study_area_l72.geojson\")\n",
    "df"
   ]
  },
  {
   "cell_type": "markdown",
   "metadata": {},
   "source": [
    "### Using abiotic grids\n",
    "\n",
    "In certain cases the intermediary grids of Acidity or NutrientLevel need changes, to compensate for specific circumstances.\n",
    "\n",
    "In that case it is possible to run a Niche model and make some adjustments to the grid and then using an abiotic grid as an input.\n",
    "\n"
   ]
  },
  {
   "cell_type": "code",
   "execution_count": null,
   "metadata": {},
   "outputs": [],
   "source": [
    "import niche_vlaanderen as nv\n",
    "import matplotlib.pyplot as plt\n",
    "\n",
    "full = nv.Niche()\n",
    "full.run_config_file(\"full.yml\")\n",
    "full.write(\"output_abiotic\", overwrite_files=True)"
   ]
  },
  {
   "cell_type": "markdown",
   "metadata": {},
   "source": [
    "Now it is possible to adapt the `acidity` and `nutrient_level` grids outside niche. For this demo, we will use some Python magic to make all nutrient levels one level lower. Note that there is no need to do this in Python, any other tool could be used as well. So if you don't understand this code - don't panic (and ignore the warning)!"
   ]
  },
  {
   "cell_type": "code",
   "execution_count": null,
   "metadata": {},
   "outputs": [],
   "source": [
    "import rasterio\n",
    "with rasterio.open(\"output_abiotic/full_nutrient_level.tif\") as src:\n",
    "    nutrient_level = src.read(1)\n",
    "    profile = src.profile\n",
    "    nodata = src.nodatavals[0]\n",
    "    \n",
    "nutrient_level[nutrient_level != nodata] = nutrient_level[nutrient_level != nodata] -1\n",
    "\n",
    "# we can not have nutrient level 0, so we set all places where this occurs to 1\n",
    "nutrient_level[nutrient_level ==0 ] = 1\n",
    "\n",
    "with rasterio.open(\"output_abiotic/adjusted_nutrient.tif\", 'w', **profile) as dst:\n",
    "    dst.write(nutrient_level, 1)"
   ]
  },
  {
   "cell_type": "markdown",
   "metadata": {},
   "source": [
    "Next we will create a new niche model using the same options as our previous full models, but we will also add the previously calculated acidity and nutrient level values as input, and run with the `abiotic=True` option. Note that we use the `read_config_file` method (and not  `run_config_file`) because we still want to edit the configuration before running."
   ]
  },
  {
   "cell_type": "code",
   "execution_count": null,
   "metadata": {},
   "outputs": [],
   "source": [
    "adjusted = nv.Niche()\n",
    "adjusted.read_config_file(\"full.yml\")\n",
    "adjusted.set_input(\"acidity\", \"output_abiotic/full_acidity.tif\")\n",
    "adjusted.set_input(\"nutrient_level\", \"output_abiotic/adjusted_nutrient.tif\")\n",
    "adjusted.name = \"adjusted\"\n",
    "adjusted.run(abiotic=True)\n",
    "\n",
    "adjusted.plot(7)\n",
    "full.plot(7)\n",
    "plt.show()"
   ]
  }
 ],
 "metadata": {
  "kernelspec": {
   "display_name": "Python 3",
   "language": "python",
   "name": "python3"
  },
  "language_info": {
   "codemirror_mode": {
    "name": "ipython",
    "version": 3
   },
   "file_extension": ".py",
   "mimetype": "text/x-python",
   "name": "python",
   "nbconvert_exporter": "python",
   "pygments_lexer": "ipython3",
   "version": "3.5.3"
  }
 },
 "nbformat": 4,
 "nbformat_minor": 2
}
