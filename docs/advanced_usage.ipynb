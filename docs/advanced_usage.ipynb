{
 "cells": [
  {
   "cell_type": "markdown",
   "metadata": {},
   "source": [
    "## Advanced usage\n",
    "### Using config files\n",
    "\n",
    "Instead of specifying all inputs using ``set_input``, it is possible to use a config file. A config file can be loaded using ``read_config_file`` or it can be read and executed immediately by using ``run_config_file``.\n",
    "\n",
    "The syntax of the config file is explained more in detail in xxxx, but is already introduced here because it will be used in the next examples."
   ]
  },
  {
   "cell_type": "markdown",
   "metadata": {},
   "source": [
    "\n",
    "### Comparing Niche classes\n",
    "\n",
    "Niche models can be compared using a NicheDelta model. This can be used to compare different scenario's. \n",
    "\n",
    "In our example, we will compare the results of the running Niche two times, once using a simple model and once using "
   ]
  },
  {
   "cell_type": "code",
   "execution_count": null,
   "metadata": {},
   "outputs": [],
   "source": [
    "import niche_vlaanderen as nv\n",
    "import matplotlib.pyplot as plt\n",
    "\n",
    "simple = nv.Niche()\n",
    "simple.run_config_file(\"simple.yml\")\n",
    "\n",
    "full = nv.Niche()\n",
    "full.run_config_file(\"full.yml\")\n",
    "\n",
    "delta = nv.NicheDelta(simple, full)\n",
    "ax = delta.plot(7)\n",
    "plt.show()"
   ]
  },
  {
   "cell_type": "markdown",
   "metadata": {},
   "source": [
    "It is also possible to show the areas in a table (dataframe)."
   ]
  },
  {
   "cell_type": "code",
   "execution_count": null,
   "metadata": {},
   "outputs": [],
   "source": [
    "delta.table.head()"
   ]
  },
  {
   "cell_type": "code",
   "execution_count": null,
   "metadata": {},
   "outputs": [],
   "source": [
    "delta.write(\"_output\")"
   ]
  },
  {
   "cell_type": "markdown",
   "metadata": {},
   "source": [
    "### Creating deviation maps\n",
    "\n",
    "To create deviation maps, it is necessary to run a model with the deviation option."
   ]
  },
  {
   "cell_type": "code",
   "execution_count": null,
   "metadata": {},
   "outputs": [],
   "source": [
    "dev = nv.Niche()\n",
    "dev.set_input(\"mhw\",\"../testcase/zwarte_beek/input/mhw.asc\")\n",
    "dev.set_input(\"mlw\",\"../testcase/zwarte_beek/input/mhw.asc\")\n",
    "dev.set_input(\"soil_code\",\"../testcase/zwarte_beek/input/soil_code.asc\")\n",
    "dev.run(deviation=True, full_model=False)"
   ]
  },
  {
   "cell_type": "code",
   "execution_count": null,
   "metadata": {},
   "outputs": [],
   "source": [
    "dev.plot(\"mhw_14\")\n",
    "plt.show()"
   ]
  },
  {
   "cell_type": "markdown",
   "metadata": {},
   "source": [
    "### Creating statistics per shape object\n",
    "\n",
    "Niche also contains a helper function that allows one to calculate the possible vegetation by using a vector dataset, such as a .geojson or .shp file.\n",
    "\n",
    "The vegetation is returned as a dict of pandas dataframes (one for every shape)."
   ]
  },
  {
   "cell_type": "code",
   "execution_count": null,
   "metadata": {},
   "outputs": [],
   "source": [
    "df = full.zonal_stats(\"../testcase/zwarte_beek/input/study_area_l72.geojson\")\n",
    "df.head()"
   ]
  },
  {
   "cell_type": "markdown",
   "metadata": {},
   "source": [
    "### Using abiotic grids\n",
    "\n",
    "In certain cases the intermediary grids of Acidity or NutrientLevel need changes, to compensate for specific circumstances.\n",
    "\n",
    "In that case it is possible to run a Niche model and make some adjustments to the grid and then using an abiotic grid as an input.\n",
    "\n"
   ]
  },
  {
   "cell_type": "code",
   "execution_count": 1,
   "metadata": {},
   "outputs": [],
   "source": [
    "import niche_vlaanderen as nv\n",
    "import matplotlib.pyplot as plt\n",
    "\n",
    "full = nv.Niche()\n",
    "full.run_config_file(\"full.yml\")\n",
    "full.write(\"output\")"
   ]
  },
  {
   "cell_type": "markdown",
   "metadata": {},
   "source": [
    "Now it is possible to adapt the `acidity` and `nutrient_level` grids outside "
   ]
  }
 ],
 "metadata": {
  "kernelspec": {
   "display_name": "Python 3",
   "language": "python",
   "name": "python3"
  },
  "language_info": {
   "codemirror_mode": {
    "name": "ipython",
    "version": 3
   },
   "file_extension": ".py",
   "mimetype": "text/x-python",
   "name": "python",
   "nbconvert_exporter": "python",
   "pygments_lexer": "ipython3",
   "version": "3.5.3"
  }
 },
 "nbformat": 4,
 "nbformat_minor": 2
}
