{
 "cells": [
  {
   "cell_type": "markdown",
   "metadata": {},
   "source": [
    "# Flooding module\n",
    "\n",
    "Niche Vlaanderen also contains a module to model the influence of flooding more precisely. This is done using the [Flooding](lowlevel.rst#flooding) class. \n",
    "\n",
    "The first step is importing the `niche_vlaanderen` module. For convenience, we will be importing as `nv`."
   ]
  },
  {
   "cell_type": "code",
   "execution_count": null,
   "metadata": {},
   "outputs": [],
   "source": [
    "import niche_vlaanderen as nv\n",
    "%matplotlib inline\n",
    "import matplotlib.pyplot as plt"
   ]
  },
  {
   "cell_type": "markdown",
   "metadata": {},
   "source": [
    "## Creating  a Flooding model\n",
    "Here the [Flooding](lowlevel.rst#flooding) class is created. Like in Niche Vlaanderen, when creating the class, the model with its codetables is initialized."
   ]
  },
  {
   "cell_type": "code",
   "execution_count": null,
   "metadata": {},
   "outputs": [],
   "source": [
    "fp = nv.Flooding()"
   ]
  },
  {
   "cell_type": "markdown",
   "metadata": {},
   "source": [
    "## Running the model\n",
    "\n",
    "The [calculate](lowlevel.rst#niche_vlaanderen.Flooding.calculate) method of the class takes four arguments: the depths (as grid), frequency, period and duration."
   ]
  },
  {
   "cell_type": "code",
   "execution_count": null,
   "metadata": {},
   "outputs": [],
   "source": [
    "fp.calculate(depth_file=\"../testcase/flooding/ff_bt_t10_h_0.asc\",\n",
    "             frequency=\"T10\", period=\"summer\", duration=1)"
   ]
  },
  {
   "cell_type": "markdown",
   "metadata": {},
   "source": [
    "## Inspecting the model\n",
    "The results can be plotted per vegetation type. Note that [not all vegetation types of Niche are supported](overstroming.rst#Vegetatietypen) by the flooding module."
   ]
  },
  {
   "cell_type": "code",
   "execution_count": null,
   "metadata": {},
   "outputs": [],
   "source": [
    "fp.plot(1)\n",
    "fp.plot(25)\n",
    "\n",
    "plt.show()"
   ]
  },
  {
   "cell_type": "markdown",
   "metadata": {},
   "source": [
    "Like for the niche model, it is also possible to generate a summary table."
   ]
  },
  {
   "cell_type": "code",
   "execution_count": null,
   "metadata": {},
   "outputs": [],
   "source": [
    "fp.table.head()"
   ]
  },
  {
   "cell_type": "markdown",
   "metadata": {},
   "source": [
    "## Saving the model\n",
    "Comparable to the niche model, the resulting grids can be saved using the [write](lowlevel.rst#niche_vlaanderen.Flooding.write) method."
   ]
  },
  {
   "cell_type": "code",
   "execution_count": null,
   "metadata": {},
   "outputs": [],
   "source": [
    "fp.write(\"_output\", overwrite_files=True)"
   ]
  },
  {
   "cell_type": "markdown",
   "metadata": {},
   "source": [
    "## Combining the output with niche\n",
    "\n",
    "The output of a Flooding model can be combined with a Niche model, by using the [combine](lowlevel.rst#niche_vlaanderen.Flooding.combine) method. \n",
    "\n",
    "We will create a new niche model and set the inputs."
   ]
  },
  {
   "cell_type": "code",
   "execution_count": null,
   "metadata": {},
   "outputs": [],
   "source": [
    "myniche = nv.Niche()\n",
    "input = \"../testcase/dijle/\"\n",
    "myniche.set_input(\"soil_code\", input +\"bodemv.asc\")\n",
    "myniche.set_input(\"msw\", input +\"gvg_0_cm.asc\")\n",
    "myniche.set_input(\"mlw\", input +\"glg_0_cm.asc\")\n",
    "myniche.set_input(\"mhw\", input +\"ghg_0_cm.asc\")\n",
    "myniche.set_input(\"seepage\", input +\"kwel_mm_dag.asc\")\n",
    " \n",
    "myniche.set_input(\"management\", input +\"beheer_int.asc\")\n",
    "\n",
    " \n",
    "myniche.set_input(\"nitrogen_atmospheric\", input +\"depositie_def.asc\")\n",
    "myniche.set_input(\"nitrogen_animal\", input +\"bemest_dier.asc\")\n",
    "myniche.set_input(\"nitrogen_fertilizer\", input +\"bemest_kunst.asc\")\n",
    "\n",
    "myniche.set_input(\"inundation_vegetation\", input +\"overstr_veg.asc\")\n",
    "myniche.set_input(\"inundation_acidity\", input +\"ovrstr_t10_50.asc\")\n",
    "myniche.set_input(\"inundation_nutrient\", input +\"ovrstr_t10_50.asc\")\n",
    " \n",
    "myniche.set_input(\"minerality\", input + \"minerality.asc\")\n",
    " \n",
    "myniche.set_input(\"rainwater\", input +\"nulgrid.asc\")"
   ]
  },
  {
   "cell_type": "markdown",
   "metadata": {},
   "source": [
    "Note that the niche model must be run prior to combining - otherwise this will raise an error.\n",
    "\n",
    "In this example we also plot the result to allow comparison with the combined map."
   ]
  },
  {
   "cell_type": "code",
   "execution_count": null,
   "metadata": {},
   "outputs": [],
   "source": [
    "myniche.run()\n",
    "myniche.plot(18)\n",
    "plt.show()"
   ]
  },
  {
   "cell_type": "markdown",
   "metadata": {},
   "source": [
    "Finally, we run the actual [combine](lowlevel.rst#niche_vlaanderen.Flooding.combine) method. The resulting object is a Flooding object, so we can use the same method for plotting the results."
   ]
  },
  {
   "cell_type": "code",
   "execution_count": null,
   "metadata": {},
   "outputs": [],
   "source": [
    "combined = fp.combine(myniche)\n",
    "combined.plot(18)\n",
    "plt.show()"
   ]
  }
 ],
 "metadata": {
  "kernelspec": {
   "display_name": "Python 3",
   "language": "python",
   "name": "python3"
  },
  "language_info": {
   "codemirror_mode": {
    "name": "ipython",
    "version": 3
   },
   "file_extension": ".py",
   "mimetype": "text/x-python",
   "name": "python",
   "nbconvert_exporter": "python",
   "pygments_lexer": "ipython3",
   "version": "3.5.3"
  }
 },
 "nbformat": 4,
 "nbformat_minor": 2
}
