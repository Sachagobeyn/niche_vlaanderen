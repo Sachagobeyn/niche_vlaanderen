{
 "cells": [
  {
   "cell_type": "markdown",
   "metadata": {},
   "source": [
    "# Floodplains module\n",
    "\n",
    "Niche Vlaanderen also contains a module to model the influence of flooding more precisely. This is done using the FloodPlain class. \n",
    "\n",
    "The first step is importing the `niche_vlaanderen` module. For convenience, we will be importing as `nv`."
   ]
  },
  {
   "cell_type": "code",
   "execution_count": null,
   "metadata": {
    "collapsed": false
   },
   "outputs": [],
   "source": [
    "import niche_vlaanderen as nv"
   ]
  },
  {
   "cell_type": "markdown",
   "metadata": {},
   "source": [
    "Here the FloodPlain class is created. Like in Niche Vlaanderen, when creating the class, the model with its codetables is iniitialized."
   ]
  },
  {
   "cell_type": "code",
   "execution_count": null,
   "metadata": {
    "collapsed": false
   },
   "outputs": [],
   "source": [
    "fp = nv.FloodPlain()"
   ]
  },
  {
   "cell_type": "markdown",
   "metadata": {},
   "source": [
    "The calculate method of the class takes four arguments: the depths (as grid), frequency, period and duration."
   ]
  },
  {
   "cell_type": "code",
   "execution_count": null,
   "metadata": {
    "collapsed": false
   },
   "outputs": [],
   "source": [
    "fp.calculate(depth_file=\"../testcase/floodplains/ff_bt_t10_h.asc\",\n",
    "             frequency=\"T10\", period=\"winter\", duration=1)"
   ]
  },
  {
   "cell_type": "markdown",
   "metadata": {},
   "source": [
    "The results can be plotted per vegetation type. Note that not all vegetation types of Niche are supported by the floodplains module."
   ]
  },
  {
   "cell_type": "code",
   "execution_count": null,
   "metadata": {
    "collapsed": false
   },
   "outputs": [],
   "source": [
    "fp.plot(1)\n",
    "fp.plot(5)\n",
    "import matplotlib.pyplot as plt\n",
    "plt.show()"
   ]
  },
  {
   "cell_type": "markdown",
   "metadata": {},
   "source": [
    "Vergelijkbaar met de niche module kan de write methode gebruikt worden om de grids weg te schrijven."
   ]
  },
  {
   "cell_type": "code",
   "execution_count": null,
   "metadata": {
    "collapsed": false
   },
   "outputs": [],
   "source": [
    "fp.write(\"_output\")"
   ]
  },
  {
   "cell_type": "markdown",
   "metadata": {},
   "source": [
    "De output van een niche model kan ook met die van Floodplains gecombineerd worden."
   ]
  },
  {
   "cell_type": "code",
   "execution_count": null,
   "metadata": {
    "collapsed": true
   },
   "outputs": [],
   "source": []
  },
  {
   "cell_type": "code",
   "execution_count": null,
   "metadata": {
    "collapsed": true
   },
   "outputs": [],
   "source": []
  },
  {
   "cell_type": "code",
   "execution_count": null,
   "metadata": {
    "collapsed": false
   },
   "outputs": [],
   "source": [
    "myniche = nv.Niche()\n",
    "input = \"../testcase/dijle/\"\n",
    "myniche.set_input(\"soil_code\", input +\"bodemv.asc\")\n",
    "myniche.set_input(\"msw\", input +\"gvg_0_cm.asc\")\n",
    "myniche.set_input(\"mlw\", input +\"glg_0_cm.asc\")\n",
    "myniche.set_input(\"mhw\", input +\"ghg_0_cm.asc\")\n",
    "myniche.set_input(\"seepage\", input +\"kwel_mm_dag.asc\")\n",
    " \n",
    "myniche.set_input(\"management\", input +\"beheer_int.asc\")\n",
    "\n",
    "\n",
    " \n",
    "myniche.set_input(\"nitrogen_atmospheric\", input +\"depositie_def.asc\")\n",
    "myniche.set_input(\"nitrogen_animal\", input +\"bemest_dier.asc\")\n",
    "\n",
    "myniche.set_input(\"nitrogen_fertilizer\", input +\"bemest_kunst.asc\")\n",
    "\n",
    "myniche.set_input(\"inundation_vegetation\", input +\"overstr_veg.asc\")\n",
    "myniche.set_input(\"inundation_acidity\", input +\"ovrstr_t10_50.asc\")\n",
    "myniche.set_input(\"inundation_nutrient\", input +\"ovrstr_t10_50.asc\")\n",
    " \n",
    "myniche.set_input(\"minerality\", input + \"minerality.asc\")\n",
    " \n",
    "myniche.set_input(\"rainwater\", input +\"nulgrid.asc\")\n"
   ]
  },
  {
   "cell_type": "code",
   "execution_count": null,
   "metadata": {
    "collapsed": false
   },
   "outputs": [],
   "source": [
    "myniche.run()\n",
    "myniche.plot(7)\n",
    "plt.show()"
   ]
  },
  {
   "cell_type": "code",
   "execution_count": null,
   "metadata": {
    "collapsed": false
   },
   "outputs": [],
   "source": [
    "z = fp.combine(myniche)\n",
    "# fp._context.crs\n",
    "#myniche._context.crs"
   ]
  },
  {
   "cell_type": "code",
   "execution_count": null,
   "metadata": {
    "collapsed": false
   },
   "outputs": [],
   "source": [
    " \n",
    "z.plot(7)\n",
    "plt.show()"
   ]
  }
 ],
 "metadata": {
  "kernelspec": {
   "display_name": "Python 3",
   "language": "python",
   "name": "python3"
  },
  "language_info": {
   "codemirror_mode": {
    "name": "ipython",
    "version": 3
   },
   "file_extension": ".py",
   "mimetype": "text/x-python",
   "name": "python",
   "nbconvert_exporter": "python",
   "pygments_lexer": "ipython3",
   "version": "3.5.3"
  }
 },
 "nbformat": 4,
 "nbformat_minor": 2
}
