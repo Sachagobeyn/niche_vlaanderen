{
 "cells": [
  {
   "cell_type": "markdown",
   "metadata": {},
   "source": [
    "# Demo usage niche_vlaanderen\n",
    "\n",
    "Niche Vlaanderen can be used interactively in Python. For interactive use, we recommend using the jupyter notebook. This allows one to save code and results in the same file.\n",
    "\n",
    "This file itself is a notebook, and can be accessed at: xxx\n",
    "\n",
    "## Getting started\n",
    "\n",
    "The first step is importing the `niche_vlaanderen` module. For convenience, we will be importing as `nv`."
   ]
  },
  {
   "cell_type": "code",
   "execution_count": null,
   "metadata": {
    "collapsed": false
   },
   "outputs": [],
   "source": [
    "import niche_vlaanderen as nv"
   ]
  },
  {
   "cell_type": "markdown",
   "metadata": {},
   "source": [
    "Next we create a `Niche` object. This object will hold all the data and results for an analysis."
   ]
  },
  {
   "cell_type": "code",
   "execution_count": null,
   "metadata": {
    "collapsed": true
   },
   "outputs": [],
   "source": [
    "simple = nv.Niche()"
   ]
  },
  {
   "cell_type": "markdown",
   "metadata": {},
   "source": [
    "After initialization, we can add input layers to this object, using the `set_input` method."
   ]
  },
  {
   "cell_type": "code",
   "execution_count": null,
   "metadata": {
    "collapsed": true
   },
   "outputs": [],
   "source": [
    "simple.set_input(\"mhw\",\"../testcase/grote_nete/input/mhw.asc\")\n",
    "simple.set_input(\"mlw\",\"../testcase/grote_nete/input/mhw.asc\")\n",
    "simple.set_input(\"soil_code\",\"../testcase/grote_nete/input/soil_code.asc\")"
   ]
  },
  {
   "cell_type": "markdown",
   "metadata": {},
   "source": [
    "These three input files are the minimal inputs required for running a simple NICHE model. This means we can already run our model."
   ]
  },
  {
   "cell_type": "code",
   "execution_count": null,
   "metadata": {
    "collapsed": false
   },
   "outputs": [],
   "source": [
    "simple.run(full_model=False)"
   ]
  },
  {
   "cell_type": "markdown",
   "metadata": {},
   "source": [
    "After a model is run, we can inspect the results using the `table` method. Note that the values are given in m²."
   ]
  },
  {
   "cell_type": "code",
   "execution_count": null,
   "metadata": {
    "collapsed": false
   },
   "outputs": [],
   "source": [
    "simple.table"
   ]
  },
  {
   "cell_type": "markdown",
   "metadata": {},
   "source": [
    "It is also possible to show actual grids using the `show` method."
   ]
  },
  {
   "cell_type": "code",
   "execution_count": null,
   "metadata": {
    "collapsed": false
   },
   "outputs": [],
   "source": [
    "simple.show(5)"
   ]
  },
  {
   "cell_type": "markdown",
   "metadata": {},
   "source": [
    "Note that using the table method, simple statistics can be calculated, eg the percentage that could be covered by a vegtation type:"
   ]
  },
  {
   "cell_type": "code",
   "execution_count": null,
   "metadata": {
    "collapsed": false
   },
   "outputs": [],
   "source": [
    "result = simple.table.head()  # head() takes the first 5 rows\n",
    "result['present'] / (result['present'] + result['not present'])"
   ]
  },
  {
   "cell_type": "markdown",
   "metadata": {},
   "source": [
    "## Running a full Niche model\n",
    "\n",
    "A full Niche model requires more inputs that only mhw, mlw and soil_code. The full list can be found in the documentation at xxx. It is also possible to look at the allowed_inputs dict"
   ]
  },
  {
   "cell_type": "code",
   "execution_count": null,
   "metadata": {
    "collapsed": false
   },
   "outputs": [],
   "source": [
    "nv.niche.minimal_input()"
   ]
  },
  {
   "cell_type": "code",
   "execution_count": null,
   "metadata": {
    "collapsed": false
   },
   "outputs": [],
   "source": [
    "full = nv.Niche()\n",
    "path = \"../testcase/grote_nete/input/\"\n",
    "full.set_input(\"mhw\", path + \"mhw.asc\")\n",
    "full.set_input(\"mlw\", path + \"mlw.asc\")\n",
    "full.set_input(\"soil_code\",path + \"soil_code.asc\")\n",
    "full.set_input(\"nitrogen_animal\", 0)\n",
    "full.set_input(\"inundation_acidity\", path + \"inundation_nutrient_level.asc\")\n",
    "full.set_input(\"inundation_nutrient\", path+ \"inundation_nutrient_level.asc\")\n",
    "full.set_input(\"nitrogen_fertilizer\",0)\n",
    "full.set_input(\"conductivity\", path + \"conductivity.asc\")\n",
    "full.set_input(\"management\", path + \"management.asc\")\n",
    "full.set_input(\"nitrogen_atmospheric\", 0)\n",
    "full.set_input(\"msw\", path + \"msw.asc\")\n",
    "full.set_input(\"rainwater\",0)\n",
    "full.set_input(\"seepage\", path + \"seepage.asc\")\n",
    "full.run()"
   ]
  },
  {
   "cell_type": "code",
   "execution_count": null,
   "metadata": {
    "collapsed": false,
    "scrolled": true
   },
   "outputs": [],
   "source": [
    "full.table.head()"
   ]
  },
  {
   "cell_type": "markdown",
   "metadata": {},
   "source": [
    "## Comparing Niche classes\n",
    "\n",
    "Niche models can be compared using a NicheDelta model. "
   ]
  },
  {
   "cell_type": "code",
   "execution_count": null,
   "metadata": {
    "collapsed": false
   },
   "outputs": [],
   "source": [
    "delta = nv.NicheDelta(simple, full)\n",
    "delta.show(7)"
   ]
  },
  {
   "cell_type": "markdown",
   "metadata": {},
   "source": [
    "It is also possible to show the areas in a table (dataframe)."
   ]
  },
  {
   "cell_type": "code",
   "execution_count": null,
   "metadata": {
    "collapsed": false
   },
   "outputs": [],
   "source": [
    "delta.table.head()"
   ]
  },
  {
   "cell_type": "code",
   "execution_count": null,
   "metadata": {
    "collapsed": false
   },
   "outputs": [],
   "source": [
    "delta2 = nv.NicheDelta(simple, simple)\n",
    "delta2.show(5)"
   ]
  },
  {
   "cell_type": "code",
   "execution_count": null,
   "metadata": {
    "collapsed": false
   },
   "outputs": [],
   "source": [
    "delta2.table.tail()\n"
   ]
  },
  {
   "cell_type": "code",
   "execution_count": null,
   "metadata": {
    "collapsed": false
   },
   "outputs": [],
   "source": [
    "delta2.write(\"_output\")"
   ]
  },
  {
   "cell_type": "markdown",
   "metadata": {},
   "source": [
    "## Creating deviation maps\n",
    "\n",
    "To create deviation maps, it is necessary to run a model with the deviation option."
   ]
  },
  {
   "cell_type": "code",
   "execution_count": null,
   "metadata": {
    "collapsed": false
   },
   "outputs": [],
   "source": [
    "dev = nv.Niche()\n",
    "dev.set_input(\"mhw\",\"../testcase/grote_nete/input/mhw.asc\")\n",
    "dev.set_input(\"mlw\",\"../testcase/grote_nete/input/mhw.asc\")\n",
    "dev.set_input(\"soil_code\",\"../testcase/grote_nete/input/soil_code.asc\")\n",
    "dev.run(deviation=True, full_model=False)"
   ]
  },
  {
   "cell_type": "code",
   "execution_count": null,
   "metadata": {
    "collapsed": false
   },
   "outputs": [],
   "source": [
    "#dev.show(\"mhw_02\")"
   ]
  },
  {
   "cell_type": "markdown",
   "metadata": {},
   "source": [
    "# Creating statistics per shape object\n"
   ]
  },
  {
   "cell_type": "code",
   "execution_count": null,
   "metadata": {
    "collapsed": false
   },
   "outputs": [],
   "source": [
    "df = full.zonal_stats(\"../testcase/grote_nete/input/study_area_l72.geojson\")\n",
    "df"
   ]
  }
 ],
 "metadata": {
  "kernelspec": {
   "display_name": "Python 3",
   "language": "python",
   "name": "python3"
  },
  "language_info": {
   "codemirror_mode": {
    "name": "ipython",
    "version": 3
   },
   "file_extension": ".py",
   "mimetype": "text/x-python",
   "name": "python",
   "nbconvert_exporter": "python",
   "pygments_lexer": "ipython3",
   "version": "3.5.3"
  }
 },
 "nbformat": 4,
 "nbformat_minor": 2
}
