{
 "cells": [
  {
   "cell_type": "markdown",
   "metadata": {},
   "source": [
    "# Demo usage niche_vlaanderen\n",
    "\n",
    "Niche Vlaanderen can be used interactively in Python. For interactive use, we recommend using the jupyter notebook. This allows one to save code and results in the same file.\n",
    "\n",
    "This file itself is a notebook, and can be accessed at: [demo.ipynb](https://github.com/inbo/niche_vlaanderen/blob/master/docs/demo.ipynb)\n",
    "\n",
    "## Getting started\n",
    "\n",
    "The first step is importing the `niche_vlaanderen` module. For convenience, we will be importing as `nv`."
   ]
  },
  {
   "cell_type": "code",
   "execution_count": null,
   "metadata": {
    "collapsed": false
   },
   "outputs": [],
   "source": [
    "import niche_vlaanderen as nv"
   ]
  },
  {
   "cell_type": "markdown",
   "metadata": {},
   "source": [
    "Next we create a `Niche` object. This object will hold all the data and results for an analysis. We will call the instance simple, as we will be using a [simple model](https://inbo.github.io/niche_vlaanderen/vegetatie.html#eenvoudig-niche-model), using only MHW, MLW and soil for the predictions."
   ]
  },
  {
   "cell_type": "code",
   "execution_count": null,
   "metadata": {
    "collapsed": true
   },
   "outputs": [],
   "source": [
    "simple = nv.Niche()"
   ]
  },
  {
   "cell_type": "markdown",
   "metadata": {},
   "source": [
    "After initialization, we can add input layers to this object, using the `set_input` method."
   ]
  },
  {
   "cell_type": "code",
   "execution_count": null,
   "metadata": {
    "collapsed": false
   },
   "outputs": [],
   "source": [
    "simple.set_input(\"mhw\",\"../testcase/zwarte_beek/input/mhw.asc\")\n",
    "simple.set_input(\"mlw\",\"../testcase/zwarte_beek/input/mhw.asc\")\n",
    "simple.set_input(\"soil_code\",\"../testcase/zwarte_beek/input/soil_code.asc\")"
   ]
  },
  {
   "cell_type": "markdown",
   "metadata": {},
   "source": [
    "These three input files are the minimal inputs required for running a simple NICHE model. This means we can already run our model."
   ]
  },
  {
   "cell_type": "code",
   "execution_count": null,
   "metadata": {
    "collapsed": false
   },
   "outputs": [],
   "source": [
    "simple.run(full_model=False)"
   ]
  },
  {
   "cell_type": "markdown",
   "metadata": {},
   "source": [
    "After a model is run, we can inspect the results using the `table` method. Note that the values are given in m². "
   ]
  },
  {
   "cell_type": "code",
   "execution_count": null,
   "metadata": {
    "collapsed": false
   },
   "outputs": [],
   "source": [
    "import pandas as pd\n",
    "td=list()\n",
    "for i in simple._vegetation:\n",
    "    vi = pd.Series(simple._vegetation[i].flatten())\n",
    "    rec =  vi.value_counts() * simple._context.cell_area\n",
    "    #print(rec)\n",
    "    for a in rec.index:\n",
    "        td.append((i,a,rec[a]))\n",
    "simple.table.head()"
   ]
  },
  {
   "cell_type": "markdown",
   "metadata": {},
   "source": [
    "The returned object is a [pandas dataframe](https://pandas.pydata.org/pandas-docs/stable/10min.html) which makes it easy to manipulate (eg crosstab) or save it to a file."
   ]
  },
  {
   "cell_type": "code",
   "execution_count": null,
   "metadata": {
    "collapsed": false
   },
   "outputs": [],
   "source": [
    "simple.table.to_csv(\"demo.csv\")"
   ]
  },
  {
   "cell_type": "markdown",
   "metadata": {},
   "source": [
    "By using the pandas [pivot_table](https://pandas.pydata.org/pandas-docs/stable/generated/pandas.DataFrame.pivot_table.html#pandas.DataFrame.pivot_table) method, we can create a summarized table. Note that only the first 5 rows are shown because we use the [head](https://pandas.pydata.org/pandas-docs/stable/generated/pandas.DataFrame.head.html) function"
   ]
  },
  {
   "cell_type": "code",
   "execution_count": null,
   "metadata": {
    "collapsed": false
   },
   "outputs": [],
   "source": [
    "result = simple.table.pivot_table(index=\"vegetation\", \n",
    "                            values=\"area\", \n",
    "                            columns=\"presence\",\n",
    "                            fill_value=0).head()\n",
    "\n",
    "result.head()"
   ]
  },
  {
   "cell_type": "markdown",
   "metadata": {},
   "source": [
    "It is also possible to show actual grids using the `plot` method."
   ]
  },
  {
   "cell_type": "code",
   "execution_count": null,
   "metadata": {
    "collapsed": false
   },
   "outputs": [],
   "source": [
    "simple.plot(11)\n",
    "import matplotlib.pyplot as plt\n",
    "plt.show()"
   ]
  },
  {
   "cell_type": "code",
   "execution_count": null,
   "metadata": {
    "collapsed": false
   },
   "outputs": [],
   "source": [
    "simple.name=\"test\"\n",
    "simple.plot(11)\n",
    "\n",
    "plt.show()"
   ]
  },
  {
   "cell_type": "markdown",
   "metadata": {},
   "source": [
    "## Running a full Niche model\n",
    "\n",
    "A full Niche model requires more inputs that only mhw, mlw and soil_code. The full list can be found in the documentation at xxx. It is also possible to look at the allowed_inputs set"
   ]
  },
  {
   "cell_type": "code",
   "execution_count": null,
   "metadata": {
    "collapsed": false
   },
   "outputs": [],
   "source": [
    "nv.niche.minimal_input()"
   ]
  },
  {
   "cell_type": "code",
   "execution_count": null,
   "metadata": {
    "collapsed": false
   },
   "outputs": [],
   "source": [
    "full = nv.Niche()\n",
    "path = \"../testcase/zwarte_beek/input/\"\n",
    "full.set_input(\"mhw\", path + \"mhw.asc\")\n",
    "full.set_input(\"mlw\", path + \"mlw.asc\")\n",
    "full.set_input(\"soil_code\",path + \"soil_code.asc\")\n",
    "full.set_input(\"nitrogen_animal\", 0)\n",
    "full.set_input(\"inundation_acidity\", path + \"inundation.asc\")\n",
    "full.set_input(\"inundation_nutrient\", path+ \"inundation.asc\")\n",
    "full.set_input(\"nitrogen_fertilizer\",0)\n",
    "full.set_input(\"minerality\", path + \"minerality.asc\")\n",
    "full.set_input(\"management\", path + \"management.asc\")\n",
    "full.set_input(\"nitrogen_atmospheric\", 0)\n",
    "full.set_input(\"msw\", path + \"msw.asc\")\n",
    "full.set_input(\"rainwater\",0)\n",
    "full.set_input(\"seepage\", path + \"seepage.asc\")\n",
    "full.run()"
   ]
  },
  {
   "cell_type": "code",
   "execution_count": null,
   "metadata": {
    "collapsed": false,
    "scrolled": true
   },
   "outputs": [],
   "source": [
    "full.table.head()"
   ]
  },
  {
   "cell_type": "markdown",
   "metadata": {},
   "source": [
    "## Comparing Niche classes\n",
    "\n",
    "Niche models can be compared using a NicheDelta model. "
   ]
  },
  {
   "cell_type": "code",
   "execution_count": null,
   "metadata": {
    "collapsed": false
   },
   "outputs": [],
   "source": [
    "delta = nv.NicheDelta(simple, full)\n",
    "ax = delta.plot(7)\n",
    "plt.show()"
   ]
  },
  {
   "cell_type": "markdown",
   "metadata": {},
   "source": [
    "It is also possible to show the areas in a table (dataframe)."
   ]
  },
  {
   "cell_type": "code",
   "execution_count": null,
   "metadata": {
    "collapsed": false
   },
   "outputs": [],
   "source": [
    "delta.table.head()"
   ]
  },
  {
   "cell_type": "code",
   "execution_count": null,
   "metadata": {
    "collapsed": false
   },
   "outputs": [],
   "source": [
    "delta.write(\"_output\")"
   ]
  },
  {
   "cell_type": "markdown",
   "metadata": {},
   "source": [
    "## Creating deviation maps\n",
    "\n",
    "To create deviation maps, it is necessary to run a model with the deviation option."
   ]
  },
  {
   "cell_type": "code",
   "execution_count": null,
   "metadata": {
    "collapsed": false
   },
   "outputs": [],
   "source": [
    "dev = nv.Niche()\n",
    "dev.set_input(\"mhw\",\"../testcase/zwarte_beek/input/mhw.asc\")\n",
    "dev.set_input(\"mlw\",\"../testcase/zwarte_beek/input/mhw.asc\")\n",
    "dev.set_input(\"soil_code\",\"../testcase/zwarte_beek/input/soil_code.asc\")\n",
    "dev.run(deviation=True, full_model=False)"
   ]
  },
  {
   "cell_type": "code",
   "execution_count": null,
   "metadata": {
    "collapsed": false
   },
   "outputs": [],
   "source": [
    "dev.plot(\"mhw_14\")\n",
    "plt.show()"
   ]
  },
  {
   "cell_type": "markdown",
   "metadata": {},
   "source": [
    "## Creating statistics per shape object\n",
    "\n",
    "Niche also contains a helper function that allows one to calculate the possible vegetation by using a vector dataset, such as a .geojson or .shp file.\n",
    "\n",
    "The vegetation is returned as a dict of pandas dataframes (one for every shape)."
   ]
  },
  {
   "cell_type": "code",
   "execution_count": null,
   "metadata": {
    "collapsed": false
   },
   "outputs": [],
   "source": [
    "df = full.zonal_stats(\"../testcase/zwarte_beek/input/study_area_l72.geojson\")\n",
    "df.head()"
   ]
  }
 ],
 "metadata": {
  "kernelspec": {
   "display_name": "Python 3",
   "language": "python",
   "name": "python3"
  },
  "language_info": {
   "codemirror_mode": {
    "name": "ipython",
    "version": 3
   },
   "file_extension": ".py",
   "mimetype": "text/x-python",
   "name": "python",
   "nbconvert_exporter": "python",
   "pygments_lexer": "ipython3",
   "version": "3.5.3"
  }
 },
 "nbformat": 4,
 "nbformat_minor": 2
}
