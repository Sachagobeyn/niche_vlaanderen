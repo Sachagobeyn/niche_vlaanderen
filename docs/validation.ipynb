{
 "cells": [
  {
   "cell_type": "markdown",
   "id": "fd5ab66a",
   "metadata": {},
   "source": [
    "# Validation\n",
    "\n",
    "\n",
    "## Overview\n",
    "\n",
    "\n",
    "The goal of the Niche Validation is to compare the potential vegetation types as\n",
    "determined by Niche Vlaanderen with the actual presence of vegetation types, eg\n",
    "as mapped in the [Biologische waarderingskaart (BWK)]( https://www.vlaanderen.be/inbo/de-biologische-waarderingskaart/wat-is-de-biologische-waarderingskaart/)\n",
    "\n",
    "The BWK vector file contains up to 5 habitat types in field HAB1-HAB5 and their\n",
    "proportion of the shape in fields pHAB1-pHAB5.\n",
    "\n",
    "This vegetation types in BWK are different from those in niche, but a [mapping\n",
    "table](https://github.com/inbo/niche_vlaanderen/blob/calibration/niche_vlaanderen/system_tables/hab_niche_join.csv) exists that links both.\n",
    "\n",
    "In the next steps, a (fictive) niche model is created. Vegetation type 5 is plotted because this will be used further as an example."
   ]
  },
  {
   "cell_type": "code",
   "execution_count": 1,
   "id": "ae27ea92",
   "metadata": {},
   "outputs": [
    {
     "name": "stdout",
     "output_type": "stream",
     "text": [
      "Warning: CRS definitions are not equal!\n"
     ]
    },
    {
     "data": {
      "text/plain": [
       "<AxesSubplot: title={'center': 'Carpinion betuli (5)'}>"
      ]
     },
     "execution_count": 1,
     "metadata": {},
     "output_type": "execute_result"
    },
    {
     "data": {
      "image/png": "[encoded data removed]",
      "text/plain": [
       "<Figure size 432x288 with 1 Axes>"
      ]
     },
     "metadata": {
      "needs_background": "light"
     },
     "output_type": "display_data"
    }
   ],
   "source": [
    "from niche_vlaanderen import Niche\n",
    "nv = Niche()\n",
    "nv.run_config_file(\"../tests/data/bwk_tiny/tiny.yaml\")\n",
    "nv.plot(5)"
   ]
  },
  {
   "cell_type": "markdown",
   "id": "98a8aa59",
   "metadata": {},
   "source": [
    "Next an overlay object is created which contains the bwk map with extra columns NICH_x_y for the corresponding niche vegetation types. Note that some vegetation types can not be mapped to niche (eg `gh` in the example below).\n",
    "Next the `zonal_statistics` module is used to calculate the potential vegetation for every shape.\n",
    "\n",
    "Note the progress bar, in this example it is going fast, but for larger areas, calculation may take up to 10 minutes."
   ]
  },
  {
   "cell_type": "code",
   "execution_count": 2,
   "id": "ae7a2a19",
   "metadata": {},
   "outputs": [
    {
     "name": "stderr",
     "output_type": "stream",
     "text": [
      "100%|█████████████████████████████████████████████████████████████████████████████████████████████████████████| 4/4 [00:00<00:00, 91.66it/s]\n"
     ]
    }
   ],
   "source": [
    "from niche_vlaanderen.validation import NicheValidation\n",
    "validation = NicheValidation(niche=nv, map=\"../tests/data/bwk_tiny/bwk_clip.shp\")"
   ]
  },
  {
   "cell_type": "markdown",
   "id": "8bcd0191",
   "metadata": {},
   "source": [
    "It is possible to check the mapping per vegetation type by checking the map attribute of the overlay object"
   ]
  },
  {
   "cell_type": "code",
   "execution_count": 3,
   "id": "d68479e2",
   "metadata": {},
   "outputs": [
    {
     "data": {
      "text/html": [
       "<div>\n",
       "<style scoped>\n",
       "    .dataframe tbody tr th:only-of-type {\n",
       "        vertical-align: middle;\n",
       "    }\n",
       "\n",
       "    .dataframe tbody tr th {\n",
       "        vertical-align: top;\n",
       "    }\n",
       "\n",
       "    .dataframe thead th {\n",
       "        text-align: right;\n",
       "    }\n",
       "</style>\n",
       "<table border=\"1\" class=\"dataframe\">\n",
       "  <thead>\n",
       "    <tr style=\"text-align: right;\">\n",
       "      <th></th>\n",
       "      <th>HAB1</th>\n",
       "      <th>pHAB1</th>\n",
       "      <th>HAB2</th>\n",
       "      <th>pHAB2</th>\n",
       "      <th>HAB3</th>\n",
       "      <th>pHAB3</th>\n",
       "      <th>HAB4</th>\n",
       "      <th>pHAB4</th>\n",
       "      <th>HAB5</th>\n",
       "      <th>pHAB5</th>\n",
       "      <th>...</th>\n",
       "      <th>NICH_1_1</th>\n",
       "      <th>NICH_1_2</th>\n",
       "      <th>NICH_2_1</th>\n",
       "      <th>NICH_2_2</th>\n",
       "      <th>NICH_3_1</th>\n",
       "      <th>NICH_3_2</th>\n",
       "      <th>NICH_4_1</th>\n",
       "      <th>NICH_4_2</th>\n",
       "      <th>NICH_5_1</th>\n",
       "      <th>NICH_5_2</th>\n",
       "    </tr>\n",
       "  </thead>\n",
       "  <tbody>\n",
       "    <tr>\n",
       "      <th>0</th>\n",
       "      <td>2310</td>\n",
       "      <td>100</td>\n",
       "      <td>None</td>\n",
       "      <td>0</td>\n",
       "      <td>None</td>\n",
       "      <td>0</td>\n",
       "      <td>None</td>\n",
       "      <td>0</td>\n",
       "      <td>None</td>\n",
       "      <td>0</td>\n",
       "      <td>...</td>\n",
       "      <td>28.0</td>\n",
       "      <td>NaN</td>\n",
       "      <td>NaN</td>\n",
       "      <td>NaN</td>\n",
       "      <td>NaN</td>\n",
       "      <td>NaN</td>\n",
       "      <td>NaN</td>\n",
       "      <td>NaN</td>\n",
       "      <td>NaN</td>\n",
       "      <td>NaN</td>\n",
       "    </tr>\n",
       "    <tr>\n",
       "      <th>1</th>\n",
       "      <td>2190_mp</td>\n",
       "      <td>100</td>\n",
       "      <td>None</td>\n",
       "      <td>0</td>\n",
       "      <td>None</td>\n",
       "      <td>0</td>\n",
       "      <td>None</td>\n",
       "      <td>0</td>\n",
       "      <td>None</td>\n",
       "      <td>0</td>\n",
       "      <td>...</td>\n",
       "      <td>NaN</td>\n",
       "      <td>NaN</td>\n",
       "      <td>NaN</td>\n",
       "      <td>NaN</td>\n",
       "      <td>NaN</td>\n",
       "      <td>NaN</td>\n",
       "      <td>NaN</td>\n",
       "      <td>NaN</td>\n",
       "      <td>NaN</td>\n",
       "      <td>NaN</td>\n",
       "    </tr>\n",
       "    <tr>\n",
       "      <th>2</th>\n",
       "      <td>rbbsm</td>\n",
       "      <td>100</td>\n",
       "      <td>None</td>\n",
       "      <td>20</td>\n",
       "      <td>None</td>\n",
       "      <td>0</td>\n",
       "      <td>None</td>\n",
       "      <td>0</td>\n",
       "      <td>None</td>\n",
       "      <td>0</td>\n",
       "      <td>...</td>\n",
       "      <td>27.0</td>\n",
       "      <td>NaN</td>\n",
       "      <td>NaN</td>\n",
       "      <td>NaN</td>\n",
       "      <td>NaN</td>\n",
       "      <td>NaN</td>\n",
       "      <td>NaN</td>\n",
       "      <td>NaN</td>\n",
       "      <td>NaN</td>\n",
       "      <td>NaN</td>\n",
       "    </tr>\n",
       "    <tr>\n",
       "      <th>3</th>\n",
       "      <td>gh</td>\n",
       "      <td>80</td>\n",
       "      <td>rbbvos</td>\n",
       "      <td>20</td>\n",
       "      <td>None</td>\n",
       "      <td>0</td>\n",
       "      <td>None</td>\n",
       "      <td>0</td>\n",
       "      <td>None</td>\n",
       "      <td>0</td>\n",
       "      <td>...</td>\n",
       "      <td>NaN</td>\n",
       "      <td>NaN</td>\n",
       "      <td>19.0</td>\n",
       "      <td>NaN</td>\n",
       "      <td>NaN</td>\n",
       "      <td>NaN</td>\n",
       "      <td>NaN</td>\n",
       "      <td>NaN</td>\n",
       "      <td>NaN</td>\n",
       "      <td>NaN</td>\n",
       "    </tr>\n",
       "    <tr>\n",
       "      <th>4</th>\n",
       "      <td>9160</td>\n",
       "      <td>100</td>\n",
       "      <td>None</td>\n",
       "      <td>0</td>\n",
       "      <td>None</td>\n",
       "      <td>0</td>\n",
       "      <td>None</td>\n",
       "      <td>0</td>\n",
       "      <td>None</td>\n",
       "      <td>0</td>\n",
       "      <td>...</td>\n",
       "      <td>5.0</td>\n",
       "      <td>NaN</td>\n",
       "      <td>NaN</td>\n",
       "      <td>NaN</td>\n",
       "      <td>NaN</td>\n",
       "      <td>NaN</td>\n",
       "      <td>NaN</td>\n",
       "      <td>NaN</td>\n",
       "      <td>NaN</td>\n",
       "      <td>NaN</td>\n",
       "    </tr>\n",
       "  </tbody>\n",
       "</table>\n",
       "<p>5 rows × 22 columns</p>\n",
       "</div>"
      ],
      "text/plain": [
       "      HAB1  pHAB1    HAB2  pHAB2  HAB3  pHAB3  HAB4  pHAB4  HAB5  pHAB5  ...  \\\n",
       "0     2310    100    None      0  None      0  None      0  None      0  ...   \n",
       "1  2190_mp    100    None      0  None      0  None      0  None      0  ...   \n",
       "2    rbbsm    100    None     20  None      0  None      0  None      0  ...   \n",
       "3       gh     80  rbbvos     20  None      0  None      0  None      0  ...   \n",
       "4     9160    100    None      0  None      0  None      0  None      0  ...   \n",
       "\n",
       "  NICH_1_1  NICH_1_2  NICH_2_1  NICH_2_2  NICH_3_1  NICH_3_2  NICH_4_1  \\\n",
       "0     28.0       NaN       NaN       NaN       NaN       NaN       NaN   \n",
       "1      NaN       NaN       NaN       NaN       NaN       NaN       NaN   \n",
       "2     27.0       NaN       NaN       NaN       NaN       NaN       NaN   \n",
       "3      NaN       NaN      19.0       NaN       NaN       NaN       NaN   \n",
       "4      5.0       NaN       NaN       NaN       NaN       NaN       NaN   \n",
       "\n",
       "   NICH_4_2  NICH_5_1  NICH_5_2  \n",
       "0       NaN       NaN       NaN  \n",
       "1       NaN       NaN       NaN  \n",
       "2       NaN       NaN       NaN  \n",
       "3       NaN       NaN       NaN  \n",
       "4       NaN       NaN       NaN  \n",
       "\n",
       "[5 rows x 22 columns]"
      ]
     },
     "execution_count": 3,
     "metadata": {},
     "output_type": "execute_result"
    }
   ],
   "source": [
    "validation.map"
   ]
  },
  {
   "cell_type": "markdown",
   "id": "bbab83cf",
   "metadata": {
    "scrolled": true
   },
   "source": [
    "The actual overlay will compare the grid cell centres with the shapefile. By default a upscaling factor of 5 (25 points per grid cell) is used to ensure sufficient coverage of the shapefile. For niche models of 20-25m resolution, this default value will lead to a spatial resolution of 1m, which is sufficient given the scale of the BWK map.\n",
    "![comparison between 1 and 5 upscaling](_static/png/bwk_overlay.png)"
   ]
  },
  {
   "cell_type": "markdown",
   "id": "4d97299b",
   "metadata": {},
   "source": [
    "If upscaling is not used and set to one, only the grid center will be used, which may lead to warnings because some shapes are not covered. "
   ]
  },
  {
   "cell_type": "code",
   "execution_count": 4,
   "id": "af4af276",
   "metadata": {},
   "outputs": [
    {
     "name": "stderr",
     "output_type": "stream",
     "text": [
      "100%|█████████████████████████████████████████████████████████████████████████████████████████████████████████| 4/4 [00:00<00:00, 85.99it/s]\n",
      "/home/johan/Nextcloud/_proj/niche/niche_vlaanderen/niche_vlaanderen/validation.py:191: UserWarning: No overlap between potential vegetation map and shape_id 0\n",
      "  warnings.warn(\n",
      "/home/johan/Nextcloud/_proj/niche/niche_vlaanderen/niche_vlaanderen/validation.py:191: UserWarning: No overlap between potential vegetation map and shape_id 2\n",
      "  warnings.warn(\n"
     ]
    }
   ],
   "source": [
    "validation1 = NicheValidation(niche=nv, map=\"../tests/data/bwk_tiny/bwk_clip.shp\", upscale=1)"
   ]
  },
  {
   "cell_type": "markdown",
   "id": "dcea4759",
   "metadata": {},
   "source": [
    "A summarized table containing scores of the overlay can be found by calling the summary method."
   ]
  },
  {
   "cell_type": "code",
   "execution_count": 5,
   "id": "9b37d99e",
   "metadata": {},
   "outputs": [
    {
     "data": {
      "text/html": [
       "<div>\n",
       "<style scoped>\n",
       "    .dataframe tbody tr th:only-of-type {\n",
       "        vertical-align: middle;\n",
       "    }\n",
       "\n",
       "    .dataframe tbody tr th {\n",
       "        vertical-align: top;\n",
       "    }\n",
       "\n",
       "    .dataframe thead th {\n",
       "        text-align: right;\n",
       "    }\n",
       "</style>\n",
       "<table border=\"1\" class=\"dataframe\">\n",
       "  <thead>\n",
       "    <tr style=\"text-align: right;\">\n",
       "      <th></th>\n",
       "      <th>area_effective</th>\n",
       "      <th>nonpot</th>\n",
       "      <th>nonpot_opt</th>\n",
       "      <th>pot</th>\n",
       "      <th>polygon_count</th>\n",
       "      <th>score</th>\n",
       "      <th>score_opt</th>\n",
       "    </tr>\n",
       "    <tr>\n",
       "      <th>vegetation</th>\n",
       "      <th></th>\n",
       "      <th></th>\n",
       "      <th></th>\n",
       "      <th></th>\n",
       "      <th></th>\n",
       "      <th></th>\n",
       "      <th></th>\n",
       "    </tr>\n",
       "  </thead>\n",
       "  <tbody>\n",
       "    <tr>\n",
       "      <th>5</th>\n",
       "      <td>0.600058</td>\n",
       "      <td>0.014945</td>\n",
       "      <td>0.019679</td>\n",
       "      <td>0.580379</td>\n",
       "      <td>1.0</td>\n",
       "      <td>97.48954</td>\n",
       "      <td>96.720418</td>\n",
       "    </tr>\n",
       "    <tr>\n",
       "      <th>19</th>\n",
       "      <td>0.071813</td>\n",
       "      <td>0.358689</td>\n",
       "      <td>0.071813</td>\n",
       "      <td>0.000000</td>\n",
       "      <td>1.0</td>\n",
       "      <td>0.00000</td>\n",
       "      <td>0.000000</td>\n",
       "    </tr>\n",
       "    <tr>\n",
       "      <th>27</th>\n",
       "      <td>0.004235</td>\n",
       "      <td>0.004982</td>\n",
       "      <td>0.004235</td>\n",
       "      <td>0.000000</td>\n",
       "      <td>1.0</td>\n",
       "      <td>0.00000</td>\n",
       "      <td>0.000000</td>\n",
       "    </tr>\n",
       "    <tr>\n",
       "      <th>28</th>\n",
       "      <td>0.006143</td>\n",
       "      <td>0.004982</td>\n",
       "      <td>0.006143</td>\n",
       "      <td>0.000000</td>\n",
       "      <td>1.0</td>\n",
       "      <td>0.00000</td>\n",
       "      <td>0.000000</td>\n",
       "    </tr>\n",
       "  </tbody>\n",
       "</table>\n",
       "</div>"
      ],
      "text/plain": [
       "            area_effective    nonpot  nonpot_opt       pot  polygon_count  \\\n",
       "vegetation                                                                  \n",
       "5                 0.600058  0.014945    0.019679  0.580379            1.0   \n",
       "19                0.071813  0.358689    0.071813  0.000000            1.0   \n",
       "27                0.004235  0.004982    0.004235  0.000000            1.0   \n",
       "28                0.006143  0.004982    0.006143  0.000000            1.0   \n",
       "\n",
       "               score  score_opt  \n",
       "vegetation                       \n",
       "5           97.48954  96.720418  \n",
       "19           0.00000   0.000000  \n",
       "27           0.00000   0.000000  \n",
       "28           0.00000   0.000000  "
      ]
     },
     "execution_count": 5,
     "metadata": {},
     "output_type": "execute_result"
    }
   ],
   "source": [
    "validation.summary"
   ]
  },
  {
   "cell_type": "markdown",
   "id": "0db91e55",
   "metadata": {},
   "source": [
    "Intermediate tables giving values  can be retrieved by their names:\n",
    "\n",
    "* area_pot: area with actual presence and potential presence predicted by niche\n",
    "* area_nonpot: area with actual presence without potential presence by niche\n",
    "* area_nonpot_optimistic: area with actual presence but without potential presence by niche\n",
    "* area_pot_perc: proportion (%) of the area with correct predicted area (not taking into account pHab)\n",
    "* area_pot_perc_optimistic: proportion (%) of the area with correct predicted area (taking into account pHab)\n",
    "* area_effective: area of the shape in ha taking into account the proportion of the vegetation (pHab)\n",
    "* veg_present: table showing whether vegetation is present in this polygon (1 or 0)"
   ]
  },
  {
   "cell_type": "code",
   "execution_count": 6,
   "id": "e246ff2e",
   "metadata": {},
   "outputs": [
    {
     "data": {
      "text/html": [
       "<div>\n",
       "<style scoped>\n",
       "    .dataframe tbody tr th:only-of-type {\n",
       "        vertical-align: middle;\n",
       "    }\n",
       "\n",
       "    .dataframe tbody tr th {\n",
       "        vertical-align: top;\n",
       "    }\n",
       "\n",
       "    .dataframe thead th {\n",
       "        text-align: right;\n",
       "    }\n",
       "</style>\n",
       "<table border=\"1\" class=\"dataframe\">\n",
       "  <thead>\n",
       "    <tr style=\"text-align: right;\">\n",
       "      <th>vegetation</th>\n",
       "      <th>5</th>\n",
       "      <th>19</th>\n",
       "      <th>27</th>\n",
       "      <th>28</th>\n",
       "    </tr>\n",
       "    <tr>\n",
       "      <th>shape_id</th>\n",
       "      <th></th>\n",
       "      <th></th>\n",
       "      <th></th>\n",
       "      <th></th>\n",
       "    </tr>\n",
       "  </thead>\n",
       "  <tbody>\n",
       "    <tr>\n",
       "      <th>0</th>\n",
       "      <td>NaN</td>\n",
       "      <td>NaN</td>\n",
       "      <td>NaN</td>\n",
       "      <td>0.004982</td>\n",
       "    </tr>\n",
       "    <tr>\n",
       "      <th>1</th>\n",
       "      <td>NaN</td>\n",
       "      <td>NaN</td>\n",
       "      <td>NaN</td>\n",
       "      <td>NaN</td>\n",
       "    </tr>\n",
       "    <tr>\n",
       "      <th>2</th>\n",
       "      <td>NaN</td>\n",
       "      <td>NaN</td>\n",
       "      <td>0.004982</td>\n",
       "      <td>NaN</td>\n",
       "    </tr>\n",
       "    <tr>\n",
       "      <th>3</th>\n",
       "      <td>NaN</td>\n",
       "      <td>0.358689</td>\n",
       "      <td>NaN</td>\n",
       "      <td>NaN</td>\n",
       "    </tr>\n",
       "    <tr>\n",
       "      <th>4</th>\n",
       "      <td>0.014945</td>\n",
       "      <td>NaN</td>\n",
       "      <td>NaN</td>\n",
       "      <td>NaN</td>\n",
       "    </tr>\n",
       "  </tbody>\n",
       "</table>\n",
       "</div>"
      ],
      "text/plain": [
       "vegetation        5         19        27        28\n",
       "shape_id                                          \n",
       "0                NaN       NaN       NaN  0.004982\n",
       "1                NaN       NaN       NaN       NaN\n",
       "2                NaN       NaN  0.004982       NaN\n",
       "3                NaN  0.358689       NaN       NaN\n",
       "4           0.014945       NaN       NaN       NaN"
      ]
     },
     "execution_count": 6,
     "metadata": {},
     "output_type": "execute_result"
    }
   ],
   "source": [
    "validation.area_nonpot"
   ]
  },
  {
   "cell_type": "code",
   "execution_count": 7,
   "id": "8a398258",
   "metadata": {},
   "outputs": [
    {
     "data": {
      "text/html": [
       "<div>\n",
       "<style scoped>\n",
       "    .dataframe tbody tr th:only-of-type {\n",
       "        vertical-align: middle;\n",
       "    }\n",
       "\n",
       "    .dataframe tbody tr th {\n",
       "        vertical-align: top;\n",
       "    }\n",
       "\n",
       "    .dataframe thead th {\n",
       "        text-align: right;\n",
       "    }\n",
       "</style>\n",
       "<table border=\"1\" class=\"dataframe\">\n",
       "  <thead>\n",
       "    <tr style=\"text-align: right;\">\n",
       "      <th>vegetation</th>\n",
       "      <th>5</th>\n",
       "      <th>19</th>\n",
       "      <th>27</th>\n",
       "      <th>28</th>\n",
       "    </tr>\n",
       "    <tr>\n",
       "      <th>shape_id</th>\n",
       "      <th></th>\n",
       "      <th></th>\n",
       "      <th></th>\n",
       "      <th></th>\n",
       "    </tr>\n",
       "  </thead>\n",
       "  <tbody>\n",
       "    <tr>\n",
       "      <th>0</th>\n",
       "      <td>NaN</td>\n",
       "      <td>NaN</td>\n",
       "      <td>NaN</td>\n",
       "      <td>0.006143</td>\n",
       "    </tr>\n",
       "    <tr>\n",
       "      <th>1</th>\n",
       "      <td>NaN</td>\n",
       "      <td>NaN</td>\n",
       "      <td>NaN</td>\n",
       "      <td>NaN</td>\n",
       "    </tr>\n",
       "    <tr>\n",
       "      <th>2</th>\n",
       "      <td>NaN</td>\n",
       "      <td>NaN</td>\n",
       "      <td>0.004235</td>\n",
       "      <td>NaN</td>\n",
       "    </tr>\n",
       "    <tr>\n",
       "      <th>3</th>\n",
       "      <td>NaN</td>\n",
       "      <td>0.071813</td>\n",
       "      <td>NaN</td>\n",
       "      <td>NaN</td>\n",
       "    </tr>\n",
       "    <tr>\n",
       "      <th>4</th>\n",
       "      <td>0.019679</td>\n",
       "      <td>NaN</td>\n",
       "      <td>NaN</td>\n",
       "      <td>NaN</td>\n",
       "    </tr>\n",
       "  </tbody>\n",
       "</table>\n",
       "</div>"
      ],
      "text/plain": [
       "vegetation        5         19        27        28\n",
       "shape_id                                          \n",
       "0                NaN       NaN       NaN  0.006143\n",
       "1                NaN       NaN       NaN       NaN\n",
       "2                NaN       NaN  0.004235       NaN\n",
       "3                NaN  0.071813       NaN       NaN\n",
       "4           0.019679       NaN       NaN       NaN"
      ]
     },
     "execution_count": 7,
     "metadata": {},
     "output_type": "execute_result"
    }
   ],
   "source": [
    "validation.area_nonpot_optimistic"
   ]
  },
  {
   "cell_type": "markdown",
   "id": "8d5fdc2a",
   "metadata": {},
   "source": [
    "## Using a custom vegetation table\n",
    "\n",
    "When creating a validation, it is possible to supply a custom mapping table between the vegetation types in the map and niche types. This file must be a csv with two columns, HAB and NICHE, containing the vegetation type on the map in the HAB column, "
   ]
  },
  {
   "cell_type": "code",
   "execution_count": 9,
   "id": "6116e5f7",
   "metadata": {},
   "outputs": [
    {
     "name": "stderr",
     "output_type": "stream",
     "text": [
      "100%|█████████████████████████████████████████████████████████████████████████████████████████████████████████| 3/3 [00:00<00:00, 66.16it/s]\n"
     ]
    }
   ],
   "source": [
    "validation1 = NicheValidation(niche=nv, map=\"../tests/data/bwk_tiny/bwk_clip.shp\", mapping_file=\"../tests/data/hab_niche_test.csv\")"
   ]
  },
  {
   "cell_type": "markdown",
   "id": "c4295730",
   "metadata": {},
   "source": [
    "## Storing the analysis\n",
    "Finally, the whole project can be saved. This will save the summary tables and the intermediate tables in a folder, and create a shapefile which contains the BWK map with all intermediate tables joined to it."
   ]
  },
  {
   "cell_type": "code",
   "execution_count": null,
   "id": "730abacb",
   "metadata": {},
   "outputs": [],
   "source": [
    "validation.write('_validation', overwrite=True)"
   ]
  },
  {
   "cell_type": "code",
   "execution_count": null,
   "id": "8da47493",
   "metadata": {},
   "outputs": [],
   "source": [
    "import os\n",
    "os.listdir('_validation')"
   ]
  }
 ],
 "metadata": {
  "kernelspec": {
   "display_name": "niche",
   "language": "python",
   "name": "niche"
  },
  "language_info": {
   "codemirror_mode": {
    "name": "ipython",
    "version": 3
   },
   "file_extension": ".py",
   "mimetype": "text/x-python",
   "name": "python",
   "nbconvert_exporter": "python",
   "pygments_lexer": "ipython3",
   "version": "3.9.2"
  }
 },
 "nbformat": 4,
 "nbformat_minor": 5
}
