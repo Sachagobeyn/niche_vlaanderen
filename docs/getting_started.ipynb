{
 "cells": [
  {
   "cell_type": "markdown",
   "metadata": {},
   "source": [
    "# Getting started\n",
    "Niche Vlaanderen can be used interactively in Python. For interactive use, we recommend using the [jupyter notebook](https://inbo.github.io/niche_vlaanderen/installation.html#running-niche). This allows one to save documentation, code and results in the same file.\n",
    "\n",
    "This file itself is a notebook, and can be accessed at: [getting_started.ipynb](https://github.com/inbo/niche_vlaanderen/blob/master/docs/getting_started.ipynb). If you download the [niche sourcecode](https://github.com/inbo/niche_vlaanderen/releases) you can run these notebooks from the `docs` folder, allowing you to tinker with them yourself.\n",
    "\n",
    "To calculate a Niche model one has to take the following steps:\n",
    "\n",
    " * Initialize the model (create a ``Niche`` object)\n",
    " * Add the different input grids (or constant values) to the model (``set_input`` method)\n",
    " * Run the model (``run`` method)\n",
    " * Optionally inspect the results using ``plot()`` and ``table``.\n",
    " * Save the results (``write`` method).\n",
    "\n",
    "These steps are mirrored in the design of the ``Niche`` class which is given below.\n",
    "\n",
    "Optionally the user can also create difference maps showing how much MHW/MLW has\n",
    "to change to allow a certain vegetation type. This is done using the ``deviation`` parameter of the ``run`` method.\n",
    "\n",
    "\n",
    "\n",
    "## Creating a simple NICHE model\n",
    "\n",
    "For our first example, we will be creating a [simple model](https://inbo.github.io/niche_vlaanderen/vegetatie.html#eenvoudig-niche-model), using only MHW, MLW and soil for the predictions.\n",
    "\n",
    "The first step is importing the `niche_vlaanderen` module. For convenience, we will be importing as `nv`. "
   ]
  },
  {
   "cell_type": "code",
   "execution_count": null,
   "metadata": {},
   "outputs": [],
   "source": [
    "import niche_vlaanderen as nv"
   ]
  },
  {
   "cell_type": "markdown",
   "metadata": {},
   "source": [
    "### Creating a niche object\n",
    "Next we create a `Niche` object. This object will hold all the data and results for an analysis. "
   ]
  },
  {
   "cell_type": "code",
   "execution_count": null,
   "metadata": {},
   "outputs": [],
   "source": [
    "simple = nv.Niche()"
   ]
  },
  {
   "cell_type": "markdown",
   "metadata": {},
   "source": [
    "### Adding input files\n",
    "\n",
    "After initialization, we can add input layers to this object, using the `set_input` method."
   ]
  },
  {
   "cell_type": "code",
   "execution_count": null,
   "metadata": {},
   "outputs": [],
   "source": [
    "simple.set_input(\"mhw\",\"../testcase/zwarte_beek/input/mhw.asc\")\n",
    "simple.set_input(\"mlw\",\"../testcase/zwarte_beek/input/mlw.asc\")\n",
    "simple.set_input(\"soil_code\",\"../testcase/zwarte_beek/input/soil_code.asc\")"
   ]
  },
  {
   "cell_type": "markdown",
   "metadata": {},
   "source": [
    "### Running the model\n",
    "These three input files are the only required for running a simple NICHE model. This means we can already run our model."
   ]
  },
  {
   "cell_type": "code",
   "execution_count": null,
   "metadata": {},
   "outputs": [],
   "source": [
    "simple.run(full_model=False)"
   ]
  },
  {
   "cell_type": "markdown",
   "metadata": {},
   "source": [
    "### Inspecting the model\n",
    "After a model is run, we can inspect the results using the `table` method. Note that the values are given in ha. In the example below we also use the [head](https://pandas.pydata.org/pandas-docs/stable/generated/pandas.DataFrame.head.html) function to show only the first five rows."
   ]
  },
  {
   "cell_type": "code",
   "execution_count": null,
   "metadata": {},
   "outputs": [],
   "source": [
    "simple.table.head()"
   ]
  },
  {
   "cell_type": "markdown",
   "metadata": {},
   "source": [
    "The returned object is a [pandas dataframe](https://pandas.pydata.org/pandas-docs/stable/10min.html) which makes it easy to manipulate (for example calculating a crosstabulation, filtering, ...) or save it to a file. Below we present two examples which can be useful when working with these data. The first is saving the data to a csv file."
   ]
  },
  {
   "cell_type": "code",
   "execution_count": null,
   "metadata": {},
   "outputs": [],
   "source": [
    "simple.table.to_csv(\"demo.csv\")"
   ]
  },
  {
   "cell_type": "markdown",
   "metadata": {},
   "source": [
    "By using the pandas [pivot_table](https://pandas.pydata.org/pandas-docs/stable/generated/pandas.DataFrame.pivot_table.html#pandas.DataFrame.pivot_table) method, we can create a summarized table. Note that only the first 5 rows are shown because we use the [head](https://pandas.pydata.org/pandas-docs/stable/generated/pandas.DataFrame.head.html) function"
   ]
  },
  {
   "cell_type": "code",
   "execution_count": null,
   "metadata": {},
   "outputs": [],
   "source": [
    "result = simple.table.pivot_table(index=\"vegetation\", \n",
    "                            values=\"area_ha\", \n",
    "                            columns=\"presence\",\n",
    "                            fill_value=0).head()\n",
    "\n",
    "result"
   ]
  },
  {
   "cell_type": "markdown",
   "metadata": {},
   "source": [
    "It is also possible to show actual grids using the `plot` method."
   ]
  },
  {
   "cell_type": "code",
   "execution_count": null,
   "metadata": {},
   "outputs": [],
   "source": [
    "simple.plot(11)\n",
    "import matplotlib.pyplot as plt\n",
    "plt.show()"
   ]
  },
  {
   "cell_type": "markdown",
   "metadata": {},
   "source": [
    "It is possible to give your model a `name` - this will be shown when plotting and will be used when writing the files."
   ]
  },
  {
   "cell_type": "code",
   "execution_count": null,
   "metadata": {},
   "outputs": [],
   "source": [
    "simple.name=\"scen_1\"\n",
    "simple.plot(11)\n",
    "\n",
    "plt.show()"
   ]
  },
  {
   "cell_type": "markdown",
   "metadata": {},
   "source": [
    "### Saving the model\n",
    "The model results can be saved to disk using the ``write`` function. As an argument, this takes the directory to which you want to save, \\_output_scen1 in our example. When saving a model, the log file, containing the model configuration, a summary table and all 28 vegetation grids will be saved."
   ]
  },
  {
   "cell_type": "code",
   "execution_count": null,
   "metadata": {},
   "outputs": [],
   "source": [
    "simple.write(\"_output_scen1\")"
   ]
  },
  {
   "cell_type": "markdown",
   "metadata": {},
   "source": [
    "Below you can see the list of files that is generated by this operation: There are the 28 vegetation grids (`*.tif` files), the summary table (`summary.csv`) and a logfile (`log.txt`). All files are prepended with the model `name` we set earlier."
   ]
  },
  {
   "cell_type": "code",
   "execution_count": null,
   "metadata": {},
   "outputs": [],
   "source": [
    "import os\n",
    "os.listdir(\"_output_scen1\")"
   ]
  },
  {
   "cell_type": "markdown",
   "metadata": {},
   "source": [
    "### Showing the model configuration\n",
    "While using niche, it is always possible to view the configuration by typing the object name. "
   ]
  },
  {
   "cell_type": "code",
   "execution_count": null,
   "metadata": {},
   "outputs": [],
   "source": [
    "simple"
   ]
  },
  {
   "cell_type": "markdown",
   "metadata": {},
   "source": [
    "<div class=\"alert alert-info\">\n",
    "Note that this overview contains the same information as the logfile which we wrote before. Later on, we will show that this can be used as input when running Niche with a configuration file (either from [within python](advanced_usage.ipynb#Using-config-files) or from the [command line](cli.rst)).\n",
    "</div>"
   ]
  },
  {
   "cell_type": "markdown",
   "metadata": {},
   "source": [
    "## Running a full Niche model\n",
    "\n",
    "A full Niche model requires more inputs that only mhw, mlw and soil_code. The full list can be found in the [documentation](cli.rst#full-model). It is also possible to look at the `minimal_input` set. When trying to run a model without sufficient inputs, a warning will be generated."
   ]
  },
  {
   "cell_type": "code",
   "execution_count": null,
   "metadata": {},
   "outputs": [],
   "source": [
    "nv.niche.minimal_input()"
   ]
  },
  {
   "cell_type": "markdown",
   "metadata": {},
   "source": [
    "If we add all the required values, we can run the full model. Note that it is possible to set a constant value instead of a complete grid"
   ]
  },
  {
   "cell_type": "code",
   "execution_count": null,
   "metadata": {},
   "outputs": [],
   "source": [
    "full = nv.Niche()\n",
    "path = \"../testcase/zwarte_beek/input/\"\n",
    "full.set_input(\"mhw\", path + \"mhw.asc\")\n",
    "full.set_input(\"mlw\", path + \"mlw.asc\")\n",
    "full.set_input(\"soil_code\", path + \"soil_code.asc\")\n",
    "full.set_input(\"nitrogen_animal\", 0)\n",
    "full.set_input(\"inundation_acidity\", path + \"inundation.asc\")\n",
    "full.set_input(\"inundation_nutrient\", path + \"inundation.asc\")\n",
    "full.set_input(\"nitrogen_fertilizer\",0)\n",
    "full.set_input(\"minerality\", path + \"minerality.asc\")\n",
    "full.set_input(\"management\", path + \"management.asc\")\n",
    "full.set_input(\"nitrogen_atmospheric\", 0)\n",
    "full.set_input(\"msw\", path + \"msw.asc\")\n",
    "full.set_input(\"rainwater\", 0)\n",
    "full.set_input(\"seepage\", path + \"seepage.asc\")\n",
    "full.run()"
   ]
  },
  {
   "cell_type": "markdown",
   "metadata": {},
   "source": [
    "We can look at the full model using the same `table` and `plot` functions as we used for the simple model."
   ]
  },
  {
   "cell_type": "code",
   "execution_count": null,
   "metadata": {
    "scrolled": true
   },
   "outputs": [],
   "source": [
    "full.table.head()"
   ]
  },
  {
   "cell_type": "markdown",
   "metadata": {},
   "source": [
    "Comparing to the simple model, one can observe that the area where a vegetation type can be present is always smaller than in the simple model."
   ]
  },
  {
   "cell_type": "code",
   "execution_count": null,
   "metadata": {},
   "outputs": [],
   "source": [
    "simple.table.head()"
   ]
  },
  {
   "cell_type": "markdown",
   "metadata": {},
   "source": [
    "In the next tutorial, we will focus on more [advanced methods for using the package](https://inbo.github.io/niche_vlaanderen/advanced_usage.html), starting with the comparison of these two models."
   ]
  }
 ],
 "metadata": {
  "kernelspec": {
   "display_name": "Python 3",
   "language": "python",
   "name": "python3"
  },
  "language_info": {
   "codemirror_mode": {
    "name": "ipython",
    "version": 3
   },
   "file_extension": ".py",
   "mimetype": "text/x-python",
   "name": "python",
   "nbconvert_exporter": "python",
   "pygments_lexer": "ipython3",
   "version": "3.5.3"
  }
 },
 "nbformat": 4,
 "nbformat_minor": 2
}
