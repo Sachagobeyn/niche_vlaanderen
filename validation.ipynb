{
 "cells": [
  {
   "cell_type": "markdown",
   "id": "fd5ab66a",
   "metadata": {},
   "source": [
    "# Validation\n",
    "\n",
    "\n",
    "## Overview\n",
    "\n",
    "\n",
    "The goal of the Niche Validation is to compare the potential vegetation types as\n",
    "determined by Niche Vlaanderen with the actual presence of vegetation types, e.g.\n",
    "as mapped in a vegetation map such as the Biological Valuation Map - [Biologische waarderingskaart (BWK)]( https://www.vlaanderen.be/inbo/de-biologische-waarderingskaart/wat-is-de-biologische-waarderingskaart/)\n",
    "\n",
    "The vegetation map should be a spatial vector file (e.g. a shapefile) with:\n",
    "\n",
    "- up to 9 habitat types in fields named HAB1-HAB9,\n",
    "- the proportion of the shape they occupy in fields named pHAB1-pHAB9 (0-100 %). \n",
    " \n",
    "*Note that the field names are not case sensitive (hab1, phab1 can be used without any conversion) and HAB2 until HAB9/pHAB2 until pHAB9 are facultative*.\n",
    "\n",
    "The habitat types in the vegetation map should be described using the official abbreviations of the Natura 2000 habitats and/or the regional important biotopes. Since those are different from the vegetation types in Niche, we provide a [mapping\n",
    "table](https://github.com/inbo/niche_vlaanderen/blob/master/niche_vlaanderen/system_tables/hab_niche_join.csv) to link both vegetation typologies.\n",
    "\n",
    "In the next steps, a (fictive) **niche model** is **created**. "
   ]
  },
  {
   "cell_type": "code",
   "execution_count": 1,
   "id": "ae27ea92",
   "metadata": {
    "scrolled": true
   },
   "outputs": [
    {
     "ename": "ModuleNotFoundError",
     "evalue": "No module named 'niche_vlaanderen'",
     "output_type": "error",
     "traceback": [
      "\u001b[0;31m---------------------------------------------------------------------------\u001b[0m",
      "\u001b[0;31mModuleNotFoundError\u001b[0m                       Traceback (most recent call last)",
      "\u001b[0;32m<ipython-input-1-abf2c0278bab>\u001b[0m in \u001b[0;36m<module>\u001b[0;34m\u001b[0m\n\u001b[0;32m----> 1\u001b[0;31m \u001b[0;32mfrom\u001b[0m \u001b[0mniche_vlaanderen\u001b[0m \u001b[0;32mimport\u001b[0m \u001b[0mNiche\u001b[0m\u001b[0;34m\u001b[0m\u001b[0;34m\u001b[0m\u001b[0m\n\u001b[0m\u001b[1;32m      2\u001b[0m \u001b[0mnv\u001b[0m \u001b[0;34m=\u001b[0m \u001b[0mNiche\u001b[0m\u001b[0;34m(\u001b[0m\u001b[0;34m)\u001b[0m\u001b[0;34m\u001b[0m\u001b[0;34m\u001b[0m\u001b[0m\n\u001b[1;32m      3\u001b[0m \u001b[0mnv\u001b[0m\u001b[0;34m.\u001b[0m\u001b[0mrun_config_file\u001b[0m\u001b[0;34m(\u001b[0m\u001b[0;34m\"../tests/data/bwk_tiny/tiny.yaml\"\u001b[0m\u001b[0;34m)\u001b[0m\u001b[0;34m\u001b[0m\u001b[0;34m\u001b[0m\u001b[0m\n",
      "\u001b[0;31mModuleNotFoundError\u001b[0m: No module named 'niche_vlaanderen'"
     ]
    }
   ],
   "source": [
    "from niche_vlaanderen import Niche\n",
    "nv = Niche()\n",
    "nv.run_config_file(\"../tests/data/bwk_tiny/tiny.yaml\")"
   ]
  },
  {
   "cell_type": "markdown",
   "id": "98a8aa59",
   "metadata": {},
   "source": [
    "Next a **validation object** is **created** which contains the vegetation map with extra columns NICH_x_y for the corresponding niche vegetation types (x refers to the xth habitat, HABx). Note that some vegetation types of the Biological Valuation Map used in this example cannot be mapped to niche vegetation types (e.g. `gh` = 'geen habitat'/'no habitat' in the example below).\n",
    "\n",
    "The `zonal_statistics` module is used in the background to calculate the potential vegetation for every shape.\n",
    "Note the progress bar: in this example it is going fast, but for larger areas, calculation may take up to 10 minutes."
   ]
  },
  {
   "cell_type": "code",
   "execution_count": null,
   "id": "ae7a2a19",
   "metadata": {
    "scrolled": false
   },
   "outputs": [],
   "source": [
    "from niche_vlaanderen.validation import NicheValidation\n",
    "validation = NicheValidation(niche=nv, map=\"../tests/data/bwk_tiny/bwk_clip.shp\")"
   ]
  },
  {
   "cell_type": "markdown",
   "id": "8bcd0191",
   "metadata": {},
   "source": [
    "It is possible to check the **mapping per vegetation** type by checking the `map` attribute of the validation object:"
   ]
  },
  {
   "cell_type": "code",
   "execution_count": null,
   "id": "d68479e2",
   "metadata": {},
   "outputs": [],
   "source": [
    "validation.map"
   ]
  },
  {
   "cell_type": "markdown",
   "id": "14cdfa91",
   "metadata": {},
   "source": [
    "Let us plot the vegetation map together with the niche predictions for niche vegetation type 5 that will be used further as an example."
   ]
  },
  {
   "cell_type": "code",
   "execution_count": null,
   "id": "ae7dce93",
   "metadata": {},
   "outputs": [],
   "source": [
    "mymap = validation.map.boundary.plot(ax=nv.plot(5)) \n",
    "validation.map.apply(lambda x: mymap.annotate(text=str(x['pHAB1']) + \"% \" + str(x['HAB1']) + \"\\n\" + \n",
    "                                                     str(x['pHAB2']) + \"% \" + str(x['HAB2']) + \"\\n\" + \n",
    "                                                     str(round(x['area_shape'], 3)) + \" ha\", \n",
    "                                                 xy=x.geometry.centroid.coords[0], \n",
    "                                                 ha='center',\n",
    "                                                    color = \"white\"), \n",
    "                           axis=1);"
   ]
  },
  {
   "cell_type": "markdown",
   "id": "dcea4759",
   "metadata": {},
   "source": [
    "A **summarized table** containing scores of the validation for the whole study area can be found by calling the `summary` method."
   ]
  },
  {
   "cell_type": "code",
   "execution_count": null,
   "id": "9b37d99e",
   "metadata": {},
   "outputs": [],
   "source": [
    "validation.summary"
   ]
  },
  {
   "cell_type": "markdown",
   "id": "0db91e55",
   "metadata": {},
   "source": [
    "with:\n",
    "\n",
    "- area_effective: total area in ha with a given vegetation type, taking into account the proportion of the vegetation within each shape (pHAB)\n",
    "- nonpot: total area with actual presence according to the vegetation map, but without potential presence according to niche\n",
    "- nonpot_opt: total area with actual presence according to the vegetation map, but without potential presence according to niche (taking pHAB into account)\n",
    "- pot: total area with actual presence according to the vegetation map and with potential presence according to niche\n",
    "- polygon count: number of shapes with the actual vegetation type according to the vegetation map. If there are few polygons, the final score should be taken with caution.\n",
    "- score: proportion of the total area with potential presence according to niche, compared to the total area of polygons with presence of a vegetation according to the vegetation map\n",
    "- scoreopt: proportion of the total area with potential presence according to niche, compared to the actual area of a vegetation type according to the vegetation map (i.e. taking pHAB into account)\n",
    "\n",
    "\n",
    "**Intermediate tables** giving values for each shape can be retrieved by their names:\n",
    "\n",
    "* veg_present: table showing whether the vegetation type is present in this polygon according to the vegetation map (1 or 0)\n",
    "* area_effective: area of the shape in ha taking into account the proportion of the vegetation = area polygon * pHAB\n",
    "* area_nonpot: area with actual presence according to the vegetation map, but without potential presence according to niche\n",
    "* area_nonpot_phab: area with actual presence according to the vegetation map, but without potential presence according to niche (taking pHAB into account)\n",
    "  * calculated as: If([area_effective]>[area_pot];[area_effective]-[area_pot];0)\n",
    "* area_pot: area with actual presence according to the vegetation map and with potential presence predicted by niche\n",
    "* area_pot_perc: proportion (%) of the area with correct predicted area (not taking into account pHAB)\n",
    "  * calculated as: 100*[area_pot]/ ([area_pot]+[area_nonpot])\n",
    "* area_pot_perc_phab: proportion (%) of the area with correct predicted area (taking into account pHAB)\n",
    "  * calculated as: If([area_pot]<[area_effective];100*[ area_pot]/([area_effective]);100)"
   ]
  },
  {
   "cell_type": "code",
   "execution_count": null,
   "id": "8c1b31a1",
   "metadata": {},
   "outputs": [],
   "source": [
    "validation.veg_present"
   ]
  },
  {
   "cell_type": "code",
   "execution_count": null,
   "id": "8cbb85a8",
   "metadata": {},
   "outputs": [],
   "source": [
    "validation.area_effective"
   ]
  },
  {
   "cell_type": "code",
   "execution_count": null,
   "id": "e246ff2e",
   "metadata": {},
   "outputs": [],
   "source": [
    "validation.area_nonpot"
   ]
  },
  {
   "cell_type": "code",
   "execution_count": null,
   "id": "8a398258",
   "metadata": {},
   "outputs": [],
   "source": [
    "validation.area_nonpot_phab"
   ]
  },
  {
   "cell_type": "code",
   "execution_count": null,
   "id": "653b9188",
   "metadata": {},
   "outputs": [],
   "source": [
    "validation.area_pot"
   ]
  },
  {
   "cell_type": "code",
   "execution_count": null,
   "id": "cb1bf564",
   "metadata": {},
   "outputs": [],
   "source": [
    "validation.area_pot_perc"
   ]
  },
  {
   "cell_type": "code",
   "execution_count": null,
   "id": "8a38e917",
   "metadata": {},
   "outputs": [],
   "source": [
    "validation.area_pot_perc_phab"
   ]
  },
  {
   "cell_type": "markdown",
   "id": "10d83ed7",
   "metadata": {},
   "source": [
    "## Using another field of the vegetation map as ID\n",
    "\n",
    "You can use any field of the vegetation map as ID instead of the standard shape_id."
   ]
  },
  {
   "cell_type": "code",
   "execution_count": null,
   "id": "cac040a7",
   "metadata": {},
   "outputs": [],
   "source": [
    "validation1 = NicheValidation(niche=nv, map=\"../tests/data/bwk_tiny/bwk_clip.shp\", id = \"myid\")"
   ]
  },
  {
   "cell_type": "markdown",
   "id": "4b671f8d",
   "metadata": {},
   "source": [
    "All the results per polygon will show the selected field as identifier, e.g.:"
   ]
  },
  {
   "cell_type": "code",
   "execution_count": null,
   "id": "caaf9dc4",
   "metadata": {},
   "outputs": [],
   "source": [
    "validation1.veg_present"
   ]
  },
  {
   "cell_type": "markdown",
   "id": "8d5fdc2a",
   "metadata": {},
   "source": [
    "## Using a custom vegetation table\n",
    "\n",
    "When creating a validation, it is possible to supply a custom mapping table between the vegetation types in the map and niche types. This file must be a csv with two columns, HAB and NICHE, containing the vegetation type on the map in the HAB column, and the corresponding Niche vegetation type in the NICHE column. \n",
    "\n",
    "Thanks to this option you can use a vegetation map with another vegetation typology than the Natura 2000 habitats/regional important biotopes or modify the link between vegetation types on the vegetation map and Niche vegetation types."
   ]
  },
  {
   "cell_type": "code",
   "execution_count": null,
   "id": "466986a9",
   "metadata": {},
   "outputs": [],
   "source": [
    "validation1 = NicheValidation(niche=nv, map=\"../tests/data/bwk_tiny/bwk_clip.shp\", \n",
    "                              mapping_file=\"custom_vegetation.csv\")"
   ]
  },
  {
   "cell_type": "code",
   "execution_count": null,
   "id": "6116e5f7",
   "metadata": {},
   "outputs": [],
   "source": [
    "validation1.mapping"
   ]
  },
  {
   "cell_type": "markdown",
   "id": "08883fba",
   "metadata": {},
   "source": [
    "## Setting the spatial resolution of the overlay"
   ]
  },
  {
   "cell_type": "markdown",
   "id": "bbab83cf",
   "metadata": {
    "scrolled": true
   },
   "source": [
    "The actual overlay will compare the grid cell centres (niche predictions) with the shapefile (vegetation map). \n",
    "By default an upscaling factor of 5 (25 points per grid cell) is used to ensure sufficient coverage of the shapefile. For niche models of 20-25m resolution, this default value will lead to a spatial resolution of 1m, which is sufficient given the common scale of the vegetation map.\n",
    "\n",
    "![comparison between 1 and 5 upscaling](_static/png/bwk_overlay.png)"
   ]
  },
  {
   "cell_type": "markdown",
   "id": "4d97299b",
   "metadata": {},
   "source": [
    "A greater upscaling factor can be used if the polygons of the vegetation map are particularly small compared to the resolution of the Niche predictions.\n",
    "\n",
    "If upscaling is set to one (not used), only the grid center will be used, which may lead to warnings because some shapes are not covered. "
   ]
  },
  {
   "cell_type": "code",
   "execution_count": null,
   "id": "af4af276",
   "metadata": {},
   "outputs": [],
   "source": [
    "validation1 = NicheValidation(niche=nv, map=\"../tests/data/bwk_tiny/bwk_clip.shp\", upscale=1)"
   ]
  },
  {
   "cell_type": "markdown",
   "id": "c4295730",
   "metadata": {},
   "source": [
    "## Storing the analysis\n",
    "\n",
    "Finally, the whole project can be saved. This will save the summary tables and the intermediate tables in a folder, and create a geopackage (vector spatial file) which contains the habitat map with all intermediate tables joined to it."
   ]
  },
  {
   "cell_type": "code",
   "execution_count": null,
   "id": "730abacb",
   "metadata": {},
   "outputs": [],
   "source": [
    "validation.write('_validation', overwrite_files=True)"
   ]
  },
  {
   "cell_type": "markdown",
   "id": "7dfc8d46",
   "metadata": {},
   "source": [
    "The exported files are:"
   ]
  },
  {
   "cell_type": "code",
   "execution_count": null,
   "id": "8da47493",
   "metadata": {},
   "outputs": [],
   "source": [
    "import os\n",
    "os.listdir('_validation')"
   ]
  }
 ],
 "metadata": {
  "kernelspec": {
   "display_name": "Python 3",
   "language": "python",
   "name": "python3"
  },
  "language_info": {
   "codemirror_mode": {
    "name": "ipython",
    "version": 3
   },
   "file_extension": ".py",
   "mimetype": "text/x-python",
   "name": "python",
   "nbconvert_exporter": "python",
   "pygments_lexer": "ipython3",
   "version": "3.9.2"
  }
 },
 "nbformat": 4,
 "nbformat_minor": 5
}
