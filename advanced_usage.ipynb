{
 "cells": [
  {
   "cell_type": "markdown",
   "metadata": {},
   "source": [
    "## Advanced usage\n",
    "### Using config files\n",
    "\n",
    "Instead of specifying all inputs using [set_input](https://inbo.github.io/niche_vlaanderen/lowlevel.html#niche_vlaanderen.Niche.set_input), it is possible to use a config file. A config file can be loaded using [read_config_file](https://inbo.github.io/niche_vlaanderen/lowlevel.html#niche_vlaanderen.Niche.read_config_file) or it can be read and executed immediately by using [run_config_file](https://inbo.github.io/niche_vlaanderen/lowlevel.html#niche_vlaanderen.Niche.run_config_file).\n",
    "\n",
    "The syntax of the config file is explained more in detail in [Niche Configuration file](https://inbo.github.io/niche_vlaanderen/cli.html), but is already introduced here because it will be used in the next examples.\n",
    "\n",
    "If you want to recreate the examples below, the config files can be found under the `docs` folder, so if you [extract all the data](https://inbo.github.io/niche_vlaanderen/getting_started.html#Interactive-usage) the you should be able to run the examples from the notebook. \n"
   ]
  },
  {
   "cell_type": "markdown",
   "metadata": {},
   "source": [
    "\n",
    "### Comparing Niche classes\n",
    "\n",
    "Niche models can be compared using a [NicheDelta](lowlevel.rst#niche_vlaanderen.NicheDelta) class. This can be used to compare different scenario's. \n",
    "\n",
    "In our example, we will compare the results of the running Niche two times, once using a simple model and once using a full model. "
   ]
  },
  {
   "cell_type": "code",
   "execution_count": 1,
   "metadata": {
    "execution": {
     "iopub.execute_input": "2022-01-11T16:00:06.381534Z",
     "iopub.status.busy": "2022-01-11T16:00:06.379823Z",
     "iopub.status.idle": "2022-01-11T16:00:09.968962Z",
     "shell.execute_reply": "2022-01-11T16:00:09.969416Z"
    }
   },
   "outputs": [
    {
     "data": {
      "image/png": "[encoded data removed]",
      "text/plain": [
       "<Figure size 432x288 with 1 Axes>"
      ]
     },
     "metadata": {
      "needs_background": "light"
     },
     "output_type": "display_data"
    }
   ],
   "source": [
    "import niche_vlaanderen as nv\n",
    "import matplotlib.pyplot as plt\n",
    "\n",
    "simple = nv.Niche()\n",
    "simple.run_config_file(\"simple.yml\")\n",
    "\n",
    "full = nv.Niche()\n",
    "full.run_config_file(\"full.yml\")\n",
    "\n",
    "delta = nv.NicheDelta(simple, full)\n",
    "ax = delta.plot(7)\n",
    "plt.show()"
   ]
  },
  {
   "cell_type": "markdown",
   "metadata": {},
   "source": [
    "It is also possible to show the areas in a dataframe by using the [table](lowlevel.rst#niche_vlaanderen.NicheDelta.table) attribute."
   ]
  },
  {
   "cell_type": "code",
   "execution_count": 2,
   "metadata": {
    "execution": {
     "iopub.execute_input": "2022-01-11T16:00:09.974869Z",
     "iopub.status.busy": "2022-01-11T16:00:09.972019Z",
     "iopub.status.idle": "2022-01-11T16:00:10.005909Z",
     "shell.execute_reply": "2022-01-11T16:00:10.006572Z"
    }
   },
   "outputs": [
    {
     "data": {
      "text/html": [
       "<div>\n",
       "<style scoped>\n",
       "    .dataframe tbody tr th:only-of-type {\n",
       "        vertical-align: middle;\n",
       "    }\n",
       "\n",
       "    .dataframe tbody tr th {\n",
       "        vertical-align: top;\n",
       "    }\n",
       "\n",
       "    .dataframe thead th {\n",
       "        text-align: right;\n",
       "    }\n",
       "</style>\n",
       "<table border=\"1\" class=\"dataframe\">\n",
       "  <thead>\n",
       "    <tr style=\"text-align: right;\">\n",
       "      <th></th>\n",
       "      <th>vegetation</th>\n",
       "      <th>presence</th>\n",
       "      <th>area_ha</th>\n",
       "    </tr>\n",
       "  </thead>\n",
       "  <tbody>\n",
       "    <tr>\n",
       "      <th>0</th>\n",
       "      <td>1</td>\n",
       "      <td>not present in both models</td>\n",
       "      <td>14.44</td>\n",
       "    </tr>\n",
       "    <tr>\n",
       "      <th>1</th>\n",
       "      <td>1</td>\n",
       "      <td>present in both models</td>\n",
       "      <td>8.88</td>\n",
       "    </tr>\n",
       "    <tr>\n",
       "      <th>2</th>\n",
       "      <td>1</td>\n",
       "      <td>only in model 1</td>\n",
       "      <td>1.00</td>\n",
       "    </tr>\n",
       "    <tr>\n",
       "      <th>3</th>\n",
       "      <td>2</td>\n",
       "      <td>not present in both models</td>\n",
       "      <td>11.52</td>\n",
       "    </tr>\n",
       "    <tr>\n",
       "      <th>4</th>\n",
       "      <td>2</td>\n",
       "      <td>only in model 1</td>\n",
       "      <td>10.00</td>\n",
       "    </tr>\n",
       "  </tbody>\n",
       "</table>\n",
       "</div>"
      ],
      "text/plain": [
       "   vegetation                    presence  area_ha\n",
       "0           1  not present in both models    14.44\n",
       "1           1      present in both models     8.88\n",
       "2           1             only in model 1     1.00\n",
       "3           2  not present in both models    11.52\n",
       "4           2             only in model 1    10.00"
      ]
     },
     "execution_count": 2,
     "metadata": {},
     "output_type": "execute_result"
    }
   ],
   "source": [
    "delta.table.head()"
   ]
  },
  {
   "cell_type": "markdown",
   "metadata": {},
   "source": [
    "Like Niche, NicheDelta also has a write method, which takes a directory as an argument."
   ]
  },
  {
   "cell_type": "code",
   "execution_count": 3,
   "metadata": {
    "execution": {
     "iopub.execute_input": "2022-01-11T16:00:10.010602Z",
     "iopub.status.busy": "2022-01-11T16:00:10.010058Z",
     "iopub.status.idle": "2022-01-11T16:00:10.098000Z",
     "shell.execute_reply": "2022-01-11T16:00:10.097446Z"
    }
   },
   "outputs": [],
   "source": [
    "delta.write(\"comparison_output\", overwrite_files=True)"
   ]
  },
  {
   "cell_type": "markdown",
   "metadata": {},
   "source": [
    "### Creating deviation maps\n",
    "\n",
    "In many cases, it is not only important to find out which vegetation types are possible given the different input files, but also to find out how much change would be required to `mhw` or `mlw` to allow a certain vegetation type.\n",
    "\n",
    "To create deviation maps, it is necessary to [run](lowlevel.rst#niche_vlaanderen.Niche.run) a model with the `deviation` option."
   ]
  },
  {
   "cell_type": "code",
   "execution_count": 4,
   "metadata": {
    "execution": {
     "iopub.execute_input": "2022-01-11T16:00:10.104105Z",
     "iopub.status.busy": "2022-01-11T16:00:10.103522Z",
     "iopub.status.idle": "2022-01-11T16:00:10.560399Z",
     "shell.execute_reply": "2022-01-11T16:00:10.559856Z"
    }
   },
   "outputs": [],
   "source": [
    "dev = nv.Niche()\n",
    "dev.set_input(\"mhw\",\"../testcase/zwarte_beek/input/mhw.asc\")\n",
    "dev.set_input(\"mlw\",\"../testcase/zwarte_beek/input/mhw.asc\")\n",
    "dev.set_input(\"soil_code\",\"../testcase/zwarte_beek/input/soil_code.asc\")\n",
    "dev.run(deviation=True, full_model=False)"
   ]
  },
  {
   "cell_type": "markdown",
   "metadata": {},
   "source": [
    "The deviation maps can be plotted by specifying either mhw or mlw with the vegetation type, eg mhw_14 (to show the deviation between mhw and the required mhw for vegetation type 14).\n",
    "Positive values indicate that the actual condition is too dry for the vegetation type. Negative values indicate that the actual condition is too wet for the vegetation type. "
   ]
  },
  {
   "cell_type": "code",
   "execution_count": 5,
   "metadata": {
    "execution": {
     "iopub.execute_input": "2022-01-11T16:00:10.565357Z",
     "iopub.status.busy": "2022-01-11T16:00:10.564092Z",
     "iopub.status.idle": "2022-01-11T16:00:10.993136Z",
     "shell.execute_reply": "2022-01-11T16:00:10.992642Z"
    }
   },
   "outputs": [
    {
     "data": {
      "image/png": "[encoded data removed]",
      "text/plain": [
       "<Figure size 432x288 with 2 Axes>"
      ]
     },
     "metadata": {
      "needs_background": "light"
     },
     "output_type": "display_data"
    },
    {
     "data": {
      "image/png": "[encoded data removed]",
      "text/plain": [
       "<Figure size 432x288 with 2 Axes>"
      ]
     },
     "metadata": {
      "needs_background": "light"
     },
     "output_type": "display_data"
    }
   ],
   "source": [
    "dev.plot(\"mlw\")\n",
    "dev.plot(\"mlw_14\")\n",
    "\n",
    "plt.show()"
   ]
  },
  {
   "cell_type": "markdown",
   "metadata": {},
   "source": [
    "### Creating statistics per shape object\n",
    "\n",
    "Niche also contains a helper function that allows one to calculate the possible vegetation by using a vector dataset, such as a .geojson or .shp file.\n",
    "\n",
    "The vegetation is returned as a pandas dataframe, where shapes are identified by their id and the area not covered by a shape gets `shape_id` -1."
   ]
  },
  {
   "cell_type": "code",
   "execution_count": 6,
   "metadata": {
    "execution": {
     "iopub.execute_input": "2022-01-11T16:00:11.019057Z",
     "iopub.status.busy": "2022-01-11T16:00:11.017899Z",
     "iopub.status.idle": "2022-01-11T16:00:11.511996Z",
     "shell.execute_reply": "2022-01-11T16:00:11.512751Z"
    }
   },
   "outputs": [
    {
     "data": {
      "text/html": [
       "<div>\n",
       "<style scoped>\n",
       "    .dataframe tbody tr th:only-of-type {\n",
       "        vertical-align: middle;\n",
       "    }\n",
       "\n",
       "    .dataframe tbody tr th {\n",
       "        vertical-align: top;\n",
       "    }\n",
       "\n",
       "    .dataframe thead th {\n",
       "        text-align: right;\n",
       "    }\n",
       "</style>\n",
       "<table border=\"1\" class=\"dataframe\">\n",
       "  <thead>\n",
       "    <tr style=\"text-align: right;\">\n",
       "      <th></th>\n",
       "      <th>vegetation</th>\n",
       "      <th>shape_id</th>\n",
       "      <th>presence</th>\n",
       "      <th>area_ha</th>\n",
       "    </tr>\n",
       "  </thead>\n",
       "  <tbody>\n",
       "    <tr>\n",
       "      <th>0</th>\n",
       "      <td>1</td>\n",
       "      <td>0</td>\n",
       "      <td>not present</td>\n",
       "      <td>15.44</td>\n",
       "    </tr>\n",
       "    <tr>\n",
       "      <th>1</th>\n",
       "      <td>1</td>\n",
       "      <td>0</td>\n",
       "      <td>present</td>\n",
       "      <td>8.88</td>\n",
       "    </tr>\n",
       "    <tr>\n",
       "      <th>2</th>\n",
       "      <td>1</td>\n",
       "      <td>0</td>\n",
       "      <td>no data</td>\n",
       "      <td>0.00</td>\n",
       "    </tr>\n",
       "    <tr>\n",
       "      <th>3</th>\n",
       "      <td>2</td>\n",
       "      <td>0</td>\n",
       "      <td>not present</td>\n",
       "      <td>21.52</td>\n",
       "    </tr>\n",
       "    <tr>\n",
       "      <th>4</th>\n",
       "      <td>2</td>\n",
       "      <td>0</td>\n",
       "      <td>present</td>\n",
       "      <td>2.80</td>\n",
       "    </tr>\n",
       "    <tr>\n",
       "      <th>...</th>\n",
       "      <td>...</td>\n",
       "      <td>...</td>\n",
       "      <td>...</td>\n",
       "      <td>...</td>\n",
       "    </tr>\n",
       "    <tr>\n",
       "      <th>79</th>\n",
       "      <td>27</td>\n",
       "      <td>-1</td>\n",
       "      <td>not present</td>\n",
       "      <td>0.00</td>\n",
       "    </tr>\n",
       "    <tr>\n",
       "      <th>80</th>\n",
       "      <td>27</td>\n",
       "      <td>-1</td>\n",
       "      <td>present</td>\n",
       "      <td>0.00</td>\n",
       "    </tr>\n",
       "    <tr>\n",
       "      <th>81</th>\n",
       "      <td>28</td>\n",
       "      <td>-1</td>\n",
       "      <td>no data</td>\n",
       "      <td>15.16</td>\n",
       "    </tr>\n",
       "    <tr>\n",
       "      <th>82</th>\n",
       "      <td>28</td>\n",
       "      <td>-1</td>\n",
       "      <td>not present</td>\n",
       "      <td>0.00</td>\n",
       "    </tr>\n",
       "    <tr>\n",
       "      <th>83</th>\n",
       "      <td>28</td>\n",
       "      <td>-1</td>\n",
       "      <td>present</td>\n",
       "      <td>0.00</td>\n",
       "    </tr>\n",
       "  </tbody>\n",
       "</table>\n",
       "<p>168 rows × 4 columns</p>\n",
       "</div>"
      ],
      "text/plain": [
       "    vegetation  shape_id     presence  area_ha\n",
       "0            1         0  not present    15.44\n",
       "1            1         0      present     8.88\n",
       "2            1         0      no data     0.00\n",
       "3            2         0  not present    21.52\n",
       "4            2         0      present     2.80\n",
       "..         ...       ...          ...      ...\n",
       "79          27        -1  not present     0.00\n",
       "80          27        -1      present     0.00\n",
       "81          28        -1      no data    15.16\n",
       "82          28        -1  not present     0.00\n",
       "83          28        -1      present     0.00\n",
       "\n",
       "[168 rows x 4 columns]"
      ]
     },
     "execution_count": 6,
     "metadata": {},
     "output_type": "execute_result"
    }
   ],
   "source": [
    "df = full.zonal_stats(\"../testcase/zwarte_beek/input/study_area_l72.geojson\")\n",
    "df"
   ]
  },
  {
   "cell_type": "markdown",
   "metadata": {},
   "source": [
    "### Using abiotic grids\n",
    "\n",
    "In certain cases the intermediary grids of Acidity or NutrientLevel need changes, to compensate for specific circumstances.\n",
    "\n",
    "In that case it is possible to run a Niche model and make some adjustments to the grid and then using an abiotic grid as an input.\n",
    "\n"
   ]
  },
  {
   "cell_type": "code",
   "execution_count": 7,
   "metadata": {
    "execution": {
     "iopub.execute_input": "2022-01-11T16:00:11.518663Z",
     "iopub.status.busy": "2022-01-11T16:00:11.517794Z",
     "iopub.status.idle": "2022-01-11T16:00:12.193961Z",
     "shell.execute_reply": "2022-01-11T16:00:12.193325Z"
    }
   },
   "outputs": [],
   "source": [
    "import niche_vlaanderen as nv\n",
    "import matplotlib.pyplot as plt\n",
    "\n",
    "full = nv.Niche()\n",
    "full.run_config_file(\"full.yml\")\n",
    "full.write(\"output_abiotic\", overwrite_files=True)"
   ]
  },
  {
   "cell_type": "markdown",
   "metadata": {},
   "source": [
    "Now it is possible to adapt the `acidity` and `nutrient_level` grids outside niche. For this demo, we will use some Python magic to make all nutrient levels one level lower. Note that there is no need to do this in Python, any other tool could be used as well. So if you don't understand this code - don't panic (and ignore the warning)!"
   ]
  },
  {
   "cell_type": "code",
   "execution_count": 8,
   "metadata": {
    "execution": {
     "iopub.execute_input": "2022-01-11T16:00:12.201015Z",
     "iopub.status.busy": "2022-01-11T16:00:12.200449Z",
     "iopub.status.idle": "2022-01-11T16:00:12.206321Z",
     "shell.execute_reply": "2022-01-11T16:00:12.205772Z"
    }
   },
   "outputs": [],
   "source": [
    "import rasterio\n",
    "with rasterio.open(\"output_abiotic/full_nutrient_level.tif\") as src:\n",
    "    nutrient_level = src.read(1)\n",
    "    profile = src.profile\n",
    "    nodata = src.nodatavals[0]\n",
    "    \n",
    "nutrient_level[nutrient_level != nodata] = nutrient_level[nutrient_level != nodata] -1\n",
    "\n",
    "# we can not have nutrient level 0, so we set all places where this occurs to 1\n",
    "nutrient_level[nutrient_level ==0 ] = 1\n",
    "\n",
    "with rasterio.open(\"output_abiotic/adjusted_nutrient.tif\", 'w', **profile) as dst:\n",
    "    dst.write(nutrient_level, 1)"
   ]
  },
  {
   "cell_type": "markdown",
   "metadata": {},
   "source": [
    "Next we will create a new niche model using the same options as our previous full models, but we will add the previously calculated acidity as input: in this case, this acidity grid will be used (and not calculated from the other grids). Note that we use the `read_config_file` method (and not  `run_config_file`) because we still want to edit the configuration before running."
   ]
  },
  {
   "cell_type": "code",
   "execution_count": 9,
   "metadata": {
    "execution": {
     "iopub.execute_input": "2022-01-11T16:00:12.212742Z",
     "iopub.status.busy": "2022-01-11T16:00:12.212224Z",
     "iopub.status.idle": "2022-01-11T16:00:13.139527Z",
     "shell.execute_reply": "2022-01-11T16:00:13.139064Z"
    }
   },
   "outputs": [
    {
     "data": {
      "image/png": "[encoded data removed]",
      "text/plain": [
       "<Figure size 432x288 with 1 Axes>"
      ]
     },
     "metadata": {
      "needs_background": "light"
     },
     "output_type": "display_data"
    },
    {
     "data": {
      "image/png": "[encoded data removed]",
      "text/plain": [
       "<Figure size 432x288 with 1 Axes>"
      ]
     },
     "metadata": {
      "needs_background": "light"
     },
     "output_type": "display_data"
    }
   ],
   "source": [
    "adjusted = nv.Niche()\n",
    "adjusted.read_config_file(\"full.yml\")\n",
    "adjusted.set_input(\"nutrient_level\", \"output_abiotic/adjusted_nutrient.tif\")\n",
    "adjusted.name = \"adjusted_nutrient_level\"\n",
    "adjusted.run()\n",
    "\n",
    "adjusted.plot(7)\n",
    "full.plot(7)\n",
    "plt.show()"
   ]
  },
  {
   "cell_type": "markdown",
   "metadata": {},
   "source": [
    "### Overwriting standard code tables\n",
    "\n",
    "One is free to adapt the [standard code tables](https://inbo.github.io/niche_vlaanderen/codetables.html) that are used by NICHE. By specifying the paths to the adapted code tables in a NICHE class object, the standard code tables can be overwritten. In this way, standard model functioning can be tweaked. However, it is strongly advised to use ecological data that is reviewed by experts and to have in-depth knowledge of the [model functioning](https://inbo.github.io/niche_vlaanderen/model.html).\n",
    "\n",
    "The possible code tables that can be adapted and set within a [NICHE object](https://inbo.github.io/niche_vlaanderen/lowlevel.html) are:\n",
    "\n",
    "ct_acidity, ct_soil_mlw_class, ct_soil_codes, lnk_acidity, ct_seepage, ct_vegetation, ct_management, ct_nutrient_level and ct_mineralisation"
   ]
  },
  {
   "cell_type": "markdown",
   "metadata": {},
   "source": [
    "After adapting the vegetation code table for type 7 (Caricion gracilis) on peaty soil (V) by randomly altering the maximum ``mhw`` and ``mlw`` to 5 and 4 cm resp. (i.e. below ground, instead of standard values of -28 and -29 cm) and saving the file to ct_vegetation_adj7.csv, the adjusted model can be built and run."
   ]
  },
  {
   "cell_type": "code",
   "execution_count": 10,
   "metadata": {
    "execution": {
     "iopub.execute_input": "2022-01-11T16:00:13.144565Z",
     "iopub.status.busy": "2022-01-11T16:00:13.144015Z",
     "iopub.status.idle": "2022-01-11T16:00:13.738820Z",
     "shell.execute_reply": "2022-01-11T16:00:13.738269Z"
    }
   },
   "outputs": [],
   "source": [
    "adjusted_ct = nv.Niche(ct_vegetation = \"ct_vegetation_adj7.csv\")\n",
    "adjusted_ct.read_config_file(\"full.yml\")\n",
    "adjusted_ct.run()"
   ]
  },
  {
   "cell_type": "markdown",
   "metadata": {},
   "source": [
    "Example of changed potential area of Caricion gracilis vegetation type because of the changes set in the vegetation code table:"
   ]
  },
  {
   "cell_type": "code",
   "execution_count": 11,
   "metadata": {
    "execution": {
     "iopub.execute_input": "2022-01-11T16:00:13.744119Z",
     "iopub.status.busy": "2022-01-11T16:00:13.743554Z",
     "iopub.status.idle": "2022-01-11T16:00:14.040739Z",
     "shell.execute_reply": "2022-01-11T16:00:14.041449Z"
    }
   },
   "outputs": [
    {
     "data": {
      "image/png": "[encoded data removed]",
      "text/plain": [
       "<Figure size 432x288 with 1 Axes>"
      ]
     },
     "metadata": {
      "needs_background": "light"
     },
     "output_type": "display_data"
    },
    {
     "data": {
      "image/png": "[encoded data removed]",
      "text/plain": [
       "<Figure size 432x288 with 1 Axes>"
      ]
     },
     "metadata": {
      "needs_background": "light"
     },
     "output_type": "display_data"
    }
   ],
   "source": [
    "adjusted_ct.plot(7)\n",
    "full.plot(7)\n",
    "plt.show()"
   ]
  },
  {
   "cell_type": "markdown",
   "metadata": {},
   "source": [
    "Potential area is shrinking because of the range of grondwater levels that have become more narrow (excluding the wettest places)."
   ]
  }
 ],
 "metadata": {
  "language_info": {
   "codemirror_mode": {
    "name": "ipython",
    "version": 3
   },
   "file_extension": ".py",
   "mimetype": "text/x-python",
   "name": "python",
   "nbconvert_exporter": "python",
   "pygments_lexer": "ipython3",
   "version": "3.8.10"
  }
 },
 "nbformat": 4,
 "nbformat_minor": 2
}
